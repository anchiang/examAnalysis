{
 "cells": [
  {
   "cell_type": "markdown",
   "metadata": {},
   "source": [
    "1-1. 載入所需的套件 pandas, matplotlib, numpy, "
   ]
  },
  {
   "cell_type": "code",
   "execution_count": 25,
   "metadata": {
    "collapsed": false
   },
   "outputs": [],
   "source": [
    "import pandas as pd\n",
    "import numpy as np\n",
    "import matplotlib.pyplot as plt\n",
    "import matplotlib\n",
    "matplotlib.rcParams['font.sans-serif'] = 'HanWangHeiHeavy' # 設定字型檔讓 matplotlib 使用\n",
    "import collections\n",
    "import seaborn as sns\n",
    "%matplotlib inline"
   ]
  },
  {
   "cell_type": "markdown",
   "metadata": {},
   "source": [
    "1-2. 載入資料學測資料檔 exam_my.csv 存為變數 exam"
   ]
  },
  {
   "cell_type": "code",
   "execution_count": 2,
   "metadata": {
    "collapsed": false,
    "scrolled": true
   },
   "outputs": [
    {
     "data": {
      "text/html": [
       "<div>\n",
       "<table border=\"1\" class=\"dataframe\">\n",
       "  <thead>\n",
       "    <tr style=\"text-align: right;\">\n",
       "      <th></th>\n",
       "      <th>QID</th>\n",
       "      <th>代號</th>\n",
       "      <th>來源</th>\n",
       "      <th>類別</th>\n",
       "      <th>年份</th>\n",
       "      <th>題型</th>\n",
       "      <th>題號</th>\n",
       "      <th>題目簡述</th>\n",
       "      <th>答案</th>\n",
       "      <th>章節</th>\n",
       "      <th>...</th>\n",
       "      <th>HA</th>\n",
       "      <th>HB</th>\n",
       "      <th>HC</th>\n",
       "      <th>HD</th>\n",
       "      <th>HE</th>\n",
       "      <th>LA</th>\n",
       "      <th>LB</th>\n",
       "      <th>LC</th>\n",
       "      <th>LD</th>\n",
       "      <th>LE</th>\n",
       "    </tr>\n",
       "  </thead>\n",
       "  <tbody>\n",
       "    <tr>\n",
       "      <th>0</th>\n",
       "      <td>NaN</td>\n",
       "      <td>sdczk-mj091-1-01ax</td>\n",
       "      <td>指考數甲091</td>\n",
       "      <td>指考數甲</td>\n",
       "      <td>91</td>\n",
       "      <td>單選</td>\n",
       "      <td>1</td>\n",
       "      <td>正立方體內四頂點距離1</td>\n",
       "      <td>(B)</td>\n",
       "      <td>msskx 空間向量</td>\n",
       "      <td>...</td>\n",
       "      <td>2.0</td>\n",
       "      <td>84.0</td>\n",
       "      <td>12.0</td>\n",
       "      <td>0.0</td>\n",
       "      <td>NaN</td>\n",
       "      <td>10.0</td>\n",
       "      <td>27.0</td>\n",
       "      <td>51.0</td>\n",
       "      <td>2.0</td>\n",
       "      <td>NaN</td>\n",
       "    </tr>\n",
       "    <tr>\n",
       "      <th>1</th>\n",
       "      <td>NaN</td>\n",
       "      <td>sdczk-mj091-1-02ax</td>\n",
       "      <td>指考數甲091</td>\n",
       "      <td>指考數甲</td>\n",
       "      <td>91</td>\n",
       "      <td>單選</td>\n",
       "      <td>2</td>\n",
       "      <td>五院院長的答對率</td>\n",
       "      <td>(C)</td>\n",
       "      <td>msdtj 統計</td>\n",
       "      <td>...</td>\n",
       "      <td>0.0</td>\n",
       "      <td>0.0</td>\n",
       "      <td>99.0</td>\n",
       "      <td>0.0</td>\n",
       "      <td>NaN</td>\n",
       "      <td>2.0</td>\n",
       "      <td>6.0</td>\n",
       "      <td>81.0</td>\n",
       "      <td>3.0</td>\n",
       "      <td>NaN</td>\n",
       "    </tr>\n",
       "  </tbody>\n",
       "</table>\n",
       "<p>2 rows × 41 columns</p>\n",
       "</div>"
      ],
      "text/plain": [
       "   QID                  代號       來源    類別  年份  題型 題號         題目簡述   答案  \\\n",
       "0  NaN  sdczk-mj091-1-01ax  指考數甲091  指考數甲  91  單選  1  正立方體內四頂點距離1  (B)   \n",
       "1  NaN  sdczk-mj091-1-02ax  指考數甲091  指考數甲  91  單選  2     五院院長的答對率  (C)   \n",
       "\n",
       "           章節 ...   HA    HB    HC   HD  HE    LA    LB    LC   LD  LE  \n",
       "0  msskx 空間向量 ...  2.0  84.0  12.0  0.0 NaN  10.0  27.0  51.0  2.0 NaN  \n",
       "1    msdtj 統計 ...  0.0   0.0  99.0  0.0 NaN   2.0   6.0  81.0  3.0 NaN  \n",
       "\n",
       "[2 rows x 41 columns]"
      ]
     },
     "execution_count": 2,
     "metadata": {},
     "output_type": "execute_result"
    }
   ],
   "source": [
    "exam = pd.read_csv('exam_mj.csv')\n",
    "exam.head(2)"
   ]
  },
  {
   "cell_type": "markdown",
   "metadata": {},
   "source": [
    "1-3. 刪除 QID 欄，且將代號設為 index"
   ]
  },
  {
   "cell_type": "code",
   "execution_count": 3,
   "metadata": {
    "collapsed": false
   },
   "outputs": [],
   "source": [
    "del exam[\"QID\"]"
   ]
  },
  {
   "cell_type": "code",
   "execution_count": 4,
   "metadata": {
    "collapsed": false
   },
   "outputs": [
    {
     "data": {
      "text/html": [
       "<div>\n",
       "<table border=\"1\" class=\"dataframe\">\n",
       "  <thead>\n",
       "    <tr style=\"text-align: right;\">\n",
       "      <th></th>\n",
       "      <th>來源</th>\n",
       "      <th>類別</th>\n",
       "      <th>年份</th>\n",
       "      <th>題型</th>\n",
       "      <th>題號</th>\n",
       "      <th>題目簡述</th>\n",
       "      <th>答案</th>\n",
       "      <th>章節</th>\n",
       "      <th>章節（短）</th>\n",
       "      <th>P</th>\n",
       "      <th>...</th>\n",
       "      <th>HA</th>\n",
       "      <th>HB</th>\n",
       "      <th>HC</th>\n",
       "      <th>HD</th>\n",
       "      <th>HE</th>\n",
       "      <th>LA</th>\n",
       "      <th>LB</th>\n",
       "      <th>LC</th>\n",
       "      <th>LD</th>\n",
       "      <th>LE</th>\n",
       "    </tr>\n",
       "    <tr>\n",
       "      <th>代號</th>\n",
       "      <th></th>\n",
       "      <th></th>\n",
       "      <th></th>\n",
       "      <th></th>\n",
       "      <th></th>\n",
       "      <th></th>\n",
       "      <th></th>\n",
       "      <th></th>\n",
       "      <th></th>\n",
       "      <th></th>\n",
       "      <th></th>\n",
       "      <th></th>\n",
       "      <th></th>\n",
       "      <th></th>\n",
       "      <th></th>\n",
       "      <th></th>\n",
       "      <th></th>\n",
       "      <th></th>\n",
       "      <th></th>\n",
       "      <th></th>\n",
       "      <th></th>\n",
       "    </tr>\n",
       "  </thead>\n",
       "  <tbody>\n",
       "    <tr>\n",
       "      <th>sdczk-mj091-1-01ax</th>\n",
       "      <td>指考數甲091</td>\n",
       "      <td>指考數甲</td>\n",
       "      <td>91</td>\n",
       "      <td>單選</td>\n",
       "      <td>1</td>\n",
       "      <td>正立方體內四頂點距離1</td>\n",
       "      <td>(B)</td>\n",
       "      <td>msskx 空間向量</td>\n",
       "      <td>NaN</td>\n",
       "      <td>55.0</td>\n",
       "      <td>...</td>\n",
       "      <td>2.0</td>\n",
       "      <td>84.0</td>\n",
       "      <td>12.0</td>\n",
       "      <td>0.0</td>\n",
       "      <td>NaN</td>\n",
       "      <td>10.0</td>\n",
       "      <td>27.0</td>\n",
       "      <td>51.0</td>\n",
       "      <td>2.0</td>\n",
       "      <td>NaN</td>\n",
       "    </tr>\n",
       "    <tr>\n",
       "      <th>sdczk-mj091-1-02ax</th>\n",
       "      <td>指考數甲091</td>\n",
       "      <td>指考數甲</td>\n",
       "      <td>91</td>\n",
       "      <td>單選</td>\n",
       "      <td>2</td>\n",
       "      <td>五院院長的答對率</td>\n",
       "      <td>(C)</td>\n",
       "      <td>msdtj 統計</td>\n",
       "      <td>NaN</td>\n",
       "      <td>91.0</td>\n",
       "      <td>...</td>\n",
       "      <td>0.0</td>\n",
       "      <td>0.0</td>\n",
       "      <td>99.0</td>\n",
       "      <td>0.0</td>\n",
       "      <td>NaN</td>\n",
       "      <td>2.0</td>\n",
       "      <td>6.0</td>\n",
       "      <td>81.0</td>\n",
       "      <td>3.0</td>\n",
       "      <td>NaN</td>\n",
       "    </tr>\n",
       "  </tbody>\n",
       "</table>\n",
       "<p>2 rows × 39 columns</p>\n",
       "</div>"
      ],
      "text/plain": [
       "                         來源    類別  年份  題型 題號         題目簡述   答案          章節  \\\n",
       "代號                                                                           \n",
       "sdczk-mj091-1-01ax  指考數甲091  指考數甲  91  單選  1  正立方體內四頂點距離1  (B)  msskx 空間向量   \n",
       "sdczk-mj091-1-02ax  指考數甲091  指考數甲  91  單選  2     五院院長的答對率  (C)    msdtj 統計   \n",
       "\n",
       "                    章節（短）     P ...   HA    HB    HC   HD  HE    LA    LB  \\\n",
       "代號                              ...                                         \n",
       "sdczk-mj091-1-01ax    NaN  55.0 ...  2.0  84.0  12.0  0.0 NaN  10.0  27.0   \n",
       "sdczk-mj091-1-02ax    NaN  91.0 ...  0.0   0.0  99.0  0.0 NaN   2.0   6.0   \n",
       "\n",
       "                      LC   LD  LE  \n",
       "代號                                 \n",
       "sdczk-mj091-1-01ax  51.0  2.0 NaN  \n",
       "sdczk-mj091-1-02ax  81.0  3.0 NaN  \n",
       "\n",
       "[2 rows x 39 columns]"
      ]
     },
     "execution_count": 4,
     "metadata": {},
     "output_type": "execute_result"
    }
   ],
   "source": [
    "exam = exam.set_index([\"代號\"])\n",
    "exam.head(2)"
   ]
  },
  {
   "cell_type": "markdown",
   "metadata": {},
   "source": [
    "2.1 分別計算 單選, 多選, 填充的數量"
   ]
  },
  {
   "cell_type": "code",
   "execution_count": 26,
   "metadata": {
    "collapsed": false
   },
   "outputs": [
    {
     "data": {
      "text/plain": [
       "<matplotlib.text.Text at 0x119a35470>"
      ]
     },
     "execution_count": 26,
     "metadata": {},
     "output_type": "execute_result"
    },
    {
     "data": {
      "image/png": "[encoded data removed]",
      "text/plain": [
       "<matplotlib.figure.Figure at 0x119846630>"
      ]
     },
     "metadata": {},
     "output_type": "display_data"
    }
   ],
   "source": [
    "exam.head(2)\n",
    "quesType = exam[\"題型\"]\n",
    "quesTypeCounts = quesType.value_counts()\n",
    "quesTypeCounts.head()\n",
    "plt.figure(figsize=(6,6))\n",
    "font = {'size':20}\n",
    "matplotlib.rc('font',**font)\n",
    "plt.pie(quesTypeCounts,labels = quesTypeCounts.index, \n",
    "       autopct=\"%2.0f%%\",shadow=True,startangle=90,\n",
    "        explode=(0.1,0.1,0.1,0.1))\n",
    "plt.title(u\"數甲試題\")"
   ]
  },
  {
   "cell_type": "code",
   "execution_count": 6,
   "metadata": {
    "collapsed": false
   },
   "outputs": [
    {
     "data": {
      "text/html": [
       "<div>\n",
       "<table border=\"1\" class=\"dataframe\">\n",
       "  <thead>\n",
       "    <tr style=\"text-align: right;\">\n",
       "      <th></th>\n",
       "      <th></th>\n",
       "      <th>題數</th>\n",
       "    </tr>\n",
       "    <tr>\n",
       "      <th>來源</th>\n",
       "      <th>題型</th>\n",
       "      <th></th>\n",
       "    </tr>\n",
       "  </thead>\n",
       "  <tbody>\n",
       "    <tr>\n",
       "      <th rowspan=\"4\" valign=\"top\">指考數甲091</th>\n",
       "      <th>單選</th>\n",
       "      <td>2</td>\n",
       "    </tr>\n",
       "    <tr>\n",
       "      <th>填充</th>\n",
       "      <td>3</td>\n",
       "    </tr>\n",
       "    <tr>\n",
       "      <th>多選</th>\n",
       "      <td>6</td>\n",
       "    </tr>\n",
       "    <tr>\n",
       "      <th>非選</th>\n",
       "      <td>2</td>\n",
       "    </tr>\n",
       "    <tr>\n",
       "      <th rowspan=\"2\" valign=\"top\">指考數甲092</th>\n",
       "      <th>單選</th>\n",
       "      <td>2</td>\n",
       "    </tr>\n",
       "    <tr>\n",
       "      <th>填充</th>\n",
       "      <td>4</td>\n",
       "    </tr>\n",
       "  </tbody>\n",
       "</table>\n",
       "</div>"
      ],
      "text/plain": [
       "            題數\n",
       "來源      題型    \n",
       "指考數甲091 單選   2\n",
       "        填充   3\n",
       "        多選   6\n",
       "        非選   2\n",
       "指考數甲092 單選   2\n",
       "        填充   4"
      ]
     },
     "execution_count": 6,
     "metadata": {},
     "output_type": "execute_result"
    }
   ],
   "source": [
    "exambyYearType = exam.groupby([\"來源\",\"題型\"]).count().iloc[:,0:1]\n",
    "exambyYearType.columns.values[0]=\"題數\"\n",
    "exambyYearType.head(6)"
   ]
  },
  {
   "cell_type": "code",
   "execution_count": 7,
   "metadata": {
    "collapsed": false,
    "scrolled": false
   },
   "outputs": [
    {
     "data": {
      "text/html": [
       "<div>\n",
       "<table border=\"1\" class=\"dataframe\">\n",
       "  <thead>\n",
       "    <tr style=\"text-align: right;\">\n",
       "      <th></th>\n",
       "      <th>來源</th>\n",
       "      <th>指考數甲091</th>\n",
       "      <th>指考數甲092</th>\n",
       "      <th>指考數甲093</th>\n",
       "      <th>指考數甲094</th>\n",
       "      <th>指考數甲095</th>\n",
       "      <th>指考數甲096</th>\n",
       "      <th>指考數甲097</th>\n",
       "      <th>指考數甲098</th>\n",
       "      <th>指考數甲099</th>\n",
       "      <th>指考數甲100</th>\n",
       "      <th>指考數甲101</th>\n",
       "      <th>指考數甲102</th>\n",
       "      <th>指考數甲103</th>\n",
       "      <th>指考數甲104</th>\n",
       "      <th>指考數甲105</th>\n",
       "    </tr>\n",
       "    <tr>\n",
       "      <th></th>\n",
       "      <th>題型</th>\n",
       "      <th></th>\n",
       "      <th></th>\n",
       "      <th></th>\n",
       "      <th></th>\n",
       "      <th></th>\n",
       "      <th></th>\n",
       "      <th></th>\n",
       "      <th></th>\n",
       "      <th></th>\n",
       "      <th></th>\n",
       "      <th></th>\n",
       "      <th></th>\n",
       "      <th></th>\n",
       "      <th></th>\n",
       "      <th></th>\n",
       "    </tr>\n",
       "  </thead>\n",
       "  <tbody>\n",
       "    <tr>\n",
       "      <th rowspan=\"4\" valign=\"top\">題數</th>\n",
       "      <th>單選</th>\n",
       "      <td>2.0</td>\n",
       "      <td>2.0</td>\n",
       "      <td>2.0</td>\n",
       "      <td>3.0</td>\n",
       "      <td>3.0</td>\n",
       "      <td>3.0</td>\n",
       "      <td>2.0</td>\n",
       "      <td>3.0</td>\n",
       "      <td>5.0</td>\n",
       "      <td>4.0</td>\n",
       "      <td>5.0</td>\n",
       "      <td>4.0</td>\n",
       "      <td>4.0</td>\n",
       "      <td>3.0</td>\n",
       "      <td>4.0</td>\n",
       "    </tr>\n",
       "    <tr>\n",
       "      <th>填充</th>\n",
       "      <td>3.0</td>\n",
       "      <td>4.0</td>\n",
       "      <td>2.0</td>\n",
       "      <td>2.0</td>\n",
       "      <td>5.0</td>\n",
       "      <td>3.0</td>\n",
       "      <td>2.0</td>\n",
       "      <td>3.0</td>\n",
       "      <td>4.0</td>\n",
       "      <td>4.0</td>\n",
       "      <td>2.0</td>\n",
       "      <td>2.0</td>\n",
       "      <td>2.0</td>\n",
       "      <td>3.0</td>\n",
       "      <td>4.0</td>\n",
       "    </tr>\n",
       "    <tr>\n",
       "      <th>多選</th>\n",
       "      <td>6.0</td>\n",
       "      <td>6.0</td>\n",
       "      <td>6.0</td>\n",
       "      <td>6.0</td>\n",
       "      <td>3.0</td>\n",
       "      <td>4.0</td>\n",
       "      <td>6.0</td>\n",
       "      <td>4.0</td>\n",
       "      <td>2.0</td>\n",
       "      <td>3.0</td>\n",
       "      <td>4.0</td>\n",
       "      <td>5.0</td>\n",
       "      <td>5.0</td>\n",
       "      <td>5.0</td>\n",
       "      <td>3.0</td>\n",
       "    </tr>\n",
       "    <tr>\n",
       "      <th>非選</th>\n",
       "      <td>2.0</td>\n",
       "      <td>NaN</td>\n",
       "      <td>2.0</td>\n",
       "      <td>2.0</td>\n",
       "      <td>2.0</td>\n",
       "      <td>3.0</td>\n",
       "      <td>2.0</td>\n",
       "      <td>2.0</td>\n",
       "      <td>2.0</td>\n",
       "      <td>2.0</td>\n",
       "      <td>2.0</td>\n",
       "      <td>2.0</td>\n",
       "      <td>2.0</td>\n",
       "      <td>2.0</td>\n",
       "      <td>2.0</td>\n",
       "    </tr>\n",
       "  </tbody>\n",
       "</table>\n",
       "</div>"
      ],
      "text/plain": [
       "來源     指考數甲091  指考數甲092  指考數甲093  指考數甲094  指考數甲095  指考數甲096  指考數甲097  指考數甲098  \\\n",
       "   題型                                                                           \n",
       "題數 單選      2.0      2.0      2.0      3.0      3.0      3.0      2.0      3.0   \n",
       "   填充      3.0      4.0      2.0      2.0      5.0      3.0      2.0      3.0   \n",
       "   多選      6.0      6.0      6.0      6.0      3.0      4.0      6.0      4.0   \n",
       "   非選      2.0      NaN      2.0      2.0      2.0      3.0      2.0      2.0   \n",
       "\n",
       "來源     指考數甲099  指考數甲100  指考數甲101  指考數甲102  指考數甲103  指考數甲104  指考數甲105  \n",
       "   題型                                                                 \n",
       "題數 單選      5.0      4.0      5.0      4.0      4.0      3.0      4.0  \n",
       "   填充      4.0      4.0      2.0      2.0      2.0      3.0      4.0  \n",
       "   多選      2.0      3.0      4.0      5.0      5.0      5.0      3.0  \n",
       "   非選      2.0      2.0      2.0      2.0      2.0      2.0      2.0  "
      ]
     },
     "execution_count": 7,
     "metadata": {},
     "output_type": "execute_result"
    }
   ],
   "source": [
    "exambyYearType.unstack().T"
   ]
  },
  {
   "cell_type": "code",
   "execution_count": 8,
   "metadata": {
    "collapsed": false
   },
   "outputs": [
    {
     "data": {
      "text/html": [
       "<div>\n",
       "<table border=\"1\" class=\"dataframe\">\n",
       "  <thead>\n",
       "    <tr style=\"text-align: right;\">\n",
       "      <th></th>\n",
       "      <th>章節（短）</th>\n",
       "      <th>P</th>\n",
       "      <th>Ph</th>\n",
       "      <th>Pm</th>\n",
       "      <th>Pl</th>\n",
       "      <th>P90</th>\n",
       "      <th>P70</th>\n",
       "      <th>P50</th>\n",
       "      <th>P30</th>\n",
       "      <th>P10</th>\n",
       "      <th>T</th>\n",
       "    </tr>\n",
       "    <tr>\n",
       "      <th>題型</th>\n",
       "      <th></th>\n",
       "      <th></th>\n",
       "      <th></th>\n",
       "      <th></th>\n",
       "      <th></th>\n",
       "      <th></th>\n",
       "      <th></th>\n",
       "      <th></th>\n",
       "      <th></th>\n",
       "      <th></th>\n",
       "      <th></th>\n",
       "    </tr>\n",
       "  </thead>\n",
       "  <tbody>\n",
       "    <tr>\n",
       "      <th>單選</th>\n",
       "      <td>NaN</td>\n",
       "      <td>57.20</td>\n",
       "      <td>80.39</td>\n",
       "      <td>58.14</td>\n",
       "      <td>33.08</td>\n",
       "      <td>85.78</td>\n",
       "      <td>70.06</td>\n",
       "      <td>57.80</td>\n",
       "      <td>45.41</td>\n",
       "      <td>26.45</td>\n",
       "      <td>NaN</td>\n",
       "    </tr>\n",
       "    <tr>\n",
       "      <th>填充</th>\n",
       "      <td>NaN</td>\n",
       "      <td>40.04</td>\n",
       "      <td>69.16</td>\n",
       "      <td>38.20</td>\n",
       "      <td>12.78</td>\n",
       "      <td>77.33</td>\n",
       "      <td>53.62</td>\n",
       "      <td>38.04</td>\n",
       "      <td>23.22</td>\n",
       "      <td>7.67</td>\n",
       "      <td>NaN</td>\n",
       "    </tr>\n",
       "    <tr>\n",
       "      <th>多選</th>\n",
       "      <td>NaN</td>\n",
       "      <td>42.40</td>\n",
       "      <td>67.63</td>\n",
       "      <td>42.25</td>\n",
       "      <td>17.31</td>\n",
       "      <td>74.12</td>\n",
       "      <td>55.37</td>\n",
       "      <td>42.35</td>\n",
       "      <td>29.25</td>\n",
       "      <td>11.06</td>\n",
       "      <td>29.05</td>\n",
       "    </tr>\n",
       "    <tr>\n",
       "      <th>非選</th>\n",
       "      <td>NaN</td>\n",
       "      <td>28.00</td>\n",
       "      <td>46.00</td>\n",
       "      <td>26.00</td>\n",
       "      <td>12.00</td>\n",
       "      <td>53.00</td>\n",
       "      <td>34.00</td>\n",
       "      <td>26.00</td>\n",
       "      <td>20.00</td>\n",
       "      <td>8.00</td>\n",
       "      <td>9.00</td>\n",
       "    </tr>\n",
       "  </tbody>\n",
       "</table>\n",
       "</div>"
      ],
      "text/plain": [
       "    章節（短）      P     Ph     Pm     Pl    P90    P70    P50    P30    P10  \\\n",
       "題型                                                                         \n",
       "單選    NaN  57.20  80.39  58.14  33.08  85.78  70.06  57.80  45.41  26.45   \n",
       "填充    NaN  40.04  69.16  38.20  12.78  77.33  53.62  38.04  23.22   7.67   \n",
       "多選    NaN  42.40  67.63  42.25  17.31  74.12  55.37  42.35  29.25  11.06   \n",
       "非選    NaN  28.00  46.00  26.00  12.00  53.00  34.00  26.00  20.00   8.00   \n",
       "\n",
       "        T  \n",
       "題型         \n",
       "單選    NaN  \n",
       "填充    NaN  \n",
       "多選  29.05  \n",
       "非選   9.00  "
      ]
     },
     "execution_count": 8,
     "metadata": {},
     "output_type": "execute_result"
    }
   ],
   "source": [
    "ansRatebyType = exam.groupby(\"題型\").mean().round(2)\n",
    "ansRatebyType.iloc[:,1:12]"
   ]
  },
  {
   "cell_type": "code",
   "execution_count": 27,
   "metadata": {
    "collapsed": false
   },
   "outputs": [
    {
     "data": {
      "text/plain": [
       "<matplotlib.axes._subplots.AxesSubplot at 0x119ac5358>"
      ]
     },
     "execution_count": 27,
     "metadata": {},
     "output_type": "execute_result"
    },
    {
     "data": {
      "image/png": "[encoded data removed]",
      "text/plain": [
       "<matplotlib.figure.Figure at 0x119945e80>"
      ]
     },
     "metadata": {},
     "output_type": "display_data"
    },
    {
     "data": {
      "image/png": "[encoded data removed]",
      "text/plain": [
       "<matplotlib.figure.Figure at 0x119acc5c0>"
      ]
     },
     "metadata": {},
     "output_type": "display_data"
    }
   ],
   "source": [
    "ansRatebyTypeGroup5 =  ansRatebyType.iloc[:,6:11]\n",
    "ansRatebyTypeGroup5\n",
    "ansRatebyTypeGroup5.plot.bar(title=\"不同得分群\")\n",
    "ansRatebyTypeGroup5.T.plot.bar(title=\"不同題型\")"
   ]
  },
  {
   "cell_type": "code",
   "execution_count": 28,
   "metadata": {
    "collapsed": false
   },
   "outputs": [
    {
     "data": {
      "text/plain": [
       "<matplotlib.axes._subplots.AxesSubplot at 0x1185d0208>"
      ]
     },
     "execution_count": 28,
     "metadata": {},
     "output_type": "execute_result"
    },
    {
     "data": {
      "image/png": "[encoded data removed]",
      "text/plain": [
       "<matplotlib.figure.Figure at 0x119339ac8>"
      ]
     },
     "metadata": {},
     "output_type": "display_data"
    }
   ],
   "source": [
    "plt.figure(figsize=(16,6))\n",
    "sns.stripplot(x=\"年份\",y=\"P\",data=exam,hue=\"題型\",jitter=True)"
   ]
  },
  {
   "cell_type": "code",
   "execution_count": 11,
   "metadata": {
    "collapsed": false
   },
   "outputs": [
    {
     "data": {
      "text/plain": [
       "<seaborn.axisgrid.JointGrid at 0x117c95438>"
      ]
     },
     "execution_count": 11,
     "metadata": {},
     "output_type": "execute_result"
    },
    {
     "data": {
      "image/png": "[encoded data removed]",
      "text/plain": [
       "<matplotlib.figure.Figure at 0x117c95080>"
      ]
     },
     "metadata": {},
     "output_type": "display_data"
    }
   ],
   "source": [
    "sns.jointplot(x=\"P\",y=\"P90\",data=exam)"
   ]
  },
  {
   "cell_type": "code",
   "execution_count": 29,
   "metadata": {
    "collapsed": false,
    "scrolled": true
   },
   "outputs": [
    {
     "data": {
      "text/plain": [
       "<seaborn.axisgrid.FacetGrid at 0x119dc83c8>"
      ]
     },
     "execution_count": 29,
     "metadata": {},
     "output_type": "execute_result"
    },
    {
     "data": {
      "image/png": "[encoded data removed]",
      "text/plain": [
       "<matplotlib.figure.Figure at 0x119dc9710>"
      ]
     },
     "metadata": {},
     "output_type": "display_data"
    }
   ],
   "source": [
    "g = sns.FacetGrid(exam,col=\"題型\",hue=\"年份\")\n",
    "g.map(plt.scatter,\"P\",\"P90\")"
   ]
  },
  {
   "cell_type": "markdown",
   "metadata": {},
   "source": [
    "將 單選, 多選, 填充 分成三個表 singCho, multCho, textBox"
   ]
  },
  {
   "cell_type": "code",
   "execution_count": 34,
   "metadata": {
    "collapsed": true
   },
   "outputs": [],
   "source": [
    "singCho = exam[exam[\"題型\"].isin(['單選'])]\n",
    "multCho = exam[exam[\"題型\"] =='多選']\n",
    "textBox = exam[exam.題型.isin(['填充'])]\n",
    "exChoBox= exam[exam[\"題型\"] !='非選']"
   ]
  },
  {
   "cell_type": "code",
   "execution_count": 30,
   "metadata": {
    "collapsed": false
   },
   "outputs": [
    {
     "data": {
      "image/png": "[encoded data removed]",
      "text/plain": [
       "<matplotlib.figure.Figure at 0x11863cc50>"
      ]
     },
     "metadata": {},
     "output_type": "display_data"
    }
   ],
   "source": [
    "singChoAns = singCho[[\"答案\",\"P\"]].groupby(by = \"答案\").count()\n",
    "singChoAns.columns.values[0]=\"題數\"\n",
    "singChoAns[\"百分比\"]= singChoAns[\"題數\"]/len(singCho)\n",
    "plt.figure(figsize=(16,6))\n",
    "ax1 = plt.subplot(121,aspect=\"equal\")\n",
    "singChoAns.plot(kind='pie',y=\"題數\",ax=ax1, autopct=\"%2d%%\",fontsize = 20,legend=False)\n",
    "ax2 = plt.subplot(122)\n",
    "plt.axis(\"off\")\n",
    "from pandas.tools.plotting import table\n",
    "tbl = table(ax2,singChoAns,loc=\"center\")\n",
    "tbl.auto_set_font_size(False)\n",
    "tbl.set_fontsize(16)\n",
    "plt.show()"
   ]
  },
  {
   "cell_type": "code",
   "execution_count": 15,
   "metadata": {
    "collapsed": false
   },
   "outputs": [
    {
     "data": {
      "text/html": [
       "<div>\n",
       "<table border=\"1\" class=\"dataframe\">\n",
       "  <thead>\n",
       "    <tr style=\"text-align: right;\">\n",
       "      <th></th>\n",
       "      <th>年份</th>\n",
       "      <th>章節（短）</th>\n",
       "      <th>P</th>\n",
       "      <th>Ph</th>\n",
       "      <th>Pm</th>\n",
       "      <th>Pl</th>\n",
       "      <th>P90</th>\n",
       "      <th>P70</th>\n",
       "      <th>P50</th>\n",
       "      <th>P30</th>\n",
       "      <th>...</th>\n",
       "      <th>HA</th>\n",
       "      <th>HB</th>\n",
       "      <th>HC</th>\n",
       "      <th>HD</th>\n",
       "      <th>HE</th>\n",
       "      <th>LA</th>\n",
       "      <th>LB</th>\n",
       "      <th>LC</th>\n",
       "      <th>LD</th>\n",
       "      <th>LE</th>\n",
       "    </tr>\n",
       "  </thead>\n",
       "  <tbody>\n",
       "    <tr>\n",
       "      <th>count</th>\n",
       "      <td>49.000000</td>\n",
       "      <td>0.0</td>\n",
       "      <td>49.000000</td>\n",
       "      <td>49.000000</td>\n",
       "      <td>49.000000</td>\n",
       "      <td>49.000000</td>\n",
       "      <td>49.000000</td>\n",
       "      <td>49.000000</td>\n",
       "      <td>49.000000</td>\n",
       "      <td>49.000000</td>\n",
       "      <td>...</td>\n",
       "      <td>49.000000</td>\n",
       "      <td>49.000000</td>\n",
       "      <td>49.000000</td>\n",
       "      <td>49.000000</td>\n",
       "      <td>40.000000</td>\n",
       "      <td>49.000000</td>\n",
       "      <td>49.000000</td>\n",
       "      <td>49.000000</td>\n",
       "      <td>49.000000</td>\n",
       "      <td>40.000000</td>\n",
       "    </tr>\n",
       "    <tr>\n",
       "      <th>mean</th>\n",
       "      <td>98.918367</td>\n",
       "      <td>NaN</td>\n",
       "      <td>57.204082</td>\n",
       "      <td>80.387755</td>\n",
       "      <td>58.142857</td>\n",
       "      <td>33.081633</td>\n",
       "      <td>85.775510</td>\n",
       "      <td>70.061224</td>\n",
       "      <td>57.795918</td>\n",
       "      <td>45.408163</td>\n",
       "      <td>...</td>\n",
       "      <td>13.326531</td>\n",
       "      <td>18.020408</td>\n",
       "      <td>28.795918</td>\n",
       "      <td>16.510204</td>\n",
       "      <td>24.600000</td>\n",
       "      <td>16.795918</td>\n",
       "      <td>21.020408</td>\n",
       "      <td>24.979592</td>\n",
       "      <td>15.448980</td>\n",
       "      <td>16.000000</td>\n",
       "    </tr>\n",
       "    <tr>\n",
       "      <th>std</th>\n",
       "      <td>4.086751</td>\n",
       "      <td>NaN</td>\n",
       "      <td>18.753866</td>\n",
       "      <td>16.416222</td>\n",
       "      <td>23.032586</td>\n",
       "      <td>19.707060</td>\n",
       "      <td>13.823689</td>\n",
       "      <td>21.319404</td>\n",
       "      <td>23.437843</td>\n",
       "      <td>23.452895</td>\n",
       "      <td>...</td>\n",
       "      <td>25.570481</td>\n",
       "      <td>32.071853</td>\n",
       "      <td>36.203694</td>\n",
       "      <td>28.744653</td>\n",
       "      <td>36.889857</td>\n",
       "      <td>15.242457</td>\n",
       "      <td>15.324939</td>\n",
       "      <td>15.159554</td>\n",
       "      <td>8.935093</td>\n",
       "      <td>14.983752</td>\n",
       "    </tr>\n",
       "    <tr>\n",
       "      <th>min</th>\n",
       "      <td>91.000000</td>\n",
       "      <td>NaN</td>\n",
       "      <td>16.000000</td>\n",
       "      <td>27.000000</td>\n",
       "      <td>8.000000</td>\n",
       "      <td>4.000000</td>\n",
       "      <td>32.000000</td>\n",
       "      <td>14.000000</td>\n",
       "      <td>7.000000</td>\n",
       "      <td>4.000000</td>\n",
       "      <td>...</td>\n",
       "      <td>0.000000</td>\n",
       "      <td>0.000000</td>\n",
       "      <td>0.000000</td>\n",
       "      <td>0.000000</td>\n",
       "      <td>0.000000</td>\n",
       "      <td>2.000000</td>\n",
       "      <td>3.000000</td>\n",
       "      <td>6.000000</td>\n",
       "      <td>2.000000</td>\n",
       "      <td>1.000000</td>\n",
       "    </tr>\n",
       "    <tr>\n",
       "      <th>25%</th>\n",
       "      <td>96.000000</td>\n",
       "      <td>NaN</td>\n",
       "      <td>46.000000</td>\n",
       "      <td>76.000000</td>\n",
       "      <td>44.000000</td>\n",
       "      <td>20.000000</td>\n",
       "      <td>82.000000</td>\n",
       "      <td>62.000000</td>\n",
       "      <td>43.000000</td>\n",
       "      <td>28.000000</td>\n",
       "      <td>...</td>\n",
       "      <td>1.000000</td>\n",
       "      <td>2.000000</td>\n",
       "      <td>2.000000</td>\n",
       "      <td>1.000000</td>\n",
       "      <td>1.000000</td>\n",
       "      <td>7.000000</td>\n",
       "      <td>11.000000</td>\n",
       "      <td>13.000000</td>\n",
       "      <td>9.000000</td>\n",
       "      <td>6.000000</td>\n",
       "    </tr>\n",
       "    <tr>\n",
       "      <th>50%</th>\n",
       "      <td>99.000000</td>\n",
       "      <td>NaN</td>\n",
       "      <td>55.000000</td>\n",
       "      <td>83.000000</td>\n",
       "      <td>57.000000</td>\n",
       "      <td>28.000000</td>\n",
       "      <td>90.000000</td>\n",
       "      <td>71.000000</td>\n",
       "      <td>57.000000</td>\n",
       "      <td>39.000000</td>\n",
       "      <td>...</td>\n",
       "      <td>3.000000</td>\n",
       "      <td>4.000000</td>\n",
       "      <td>9.000000</td>\n",
       "      <td>2.000000</td>\n",
       "      <td>2.000000</td>\n",
       "      <td>12.000000</td>\n",
       "      <td>17.000000</td>\n",
       "      <td>22.000000</td>\n",
       "      <td>14.000000</td>\n",
       "      <td>10.500000</td>\n",
       "    </tr>\n",
       "    <tr>\n",
       "      <th>75%</th>\n",
       "      <td>102.000000</td>\n",
       "      <td>NaN</td>\n",
       "      <td>70.000000</td>\n",
       "      <td>92.000000</td>\n",
       "      <td>77.000000</td>\n",
       "      <td>44.000000</td>\n",
       "      <td>95.000000</td>\n",
       "      <td>86.000000</td>\n",
       "      <td>77.000000</td>\n",
       "      <td>62.000000</td>\n",
       "      <td>...</td>\n",
       "      <td>10.000000</td>\n",
       "      <td>9.000000</td>\n",
       "      <td>69.000000</td>\n",
       "      <td>6.000000</td>\n",
       "      <td>43.500000</td>\n",
       "      <td>22.000000</td>\n",
       "      <td>23.000000</td>\n",
       "      <td>31.000000</td>\n",
       "      <td>22.000000</td>\n",
       "      <td>20.500000</td>\n",
       "    </tr>\n",
       "    <tr>\n",
       "      <th>max</th>\n",
       "      <td>105.000000</td>\n",
       "      <td>NaN</td>\n",
       "      <td>93.000000</td>\n",
       "      <td>100.000000</td>\n",
       "      <td>98.000000</td>\n",
       "      <td>81.000000</td>\n",
       "      <td>100.000000</td>\n",
       "      <td>99.000000</td>\n",
       "      <td>98.000000</td>\n",
       "      <td>95.000000</td>\n",
       "      <td>...</td>\n",
       "      <td>100.000000</td>\n",
       "      <td>100.000000</td>\n",
       "      <td>99.000000</td>\n",
       "      <td>91.000000</td>\n",
       "      <td>96.000000</td>\n",
       "      <td>81.000000</td>\n",
       "      <td>75.000000</td>\n",
       "      <td>81.000000</td>\n",
       "      <td>40.000000</td>\n",
       "      <td>67.000000</td>\n",
       "    </tr>\n",
       "  </tbody>\n",
       "</table>\n",
       "<p>8 rows × 32 columns</p>\n",
       "</div>"
      ],
      "text/plain": [
       "               年份  章節（短）          P          Ph         Pm         Pl  \\\n",
       "count   49.000000    0.0  49.000000   49.000000  49.000000  49.000000   \n",
       "mean    98.918367    NaN  57.204082   80.387755  58.142857  33.081633   \n",
       "std      4.086751    NaN  18.753866   16.416222  23.032586  19.707060   \n",
       "min     91.000000    NaN  16.000000   27.000000   8.000000   4.000000   \n",
       "25%     96.000000    NaN  46.000000   76.000000  44.000000  20.000000   \n",
       "50%     99.000000    NaN  55.000000   83.000000  57.000000  28.000000   \n",
       "75%    102.000000    NaN  70.000000   92.000000  77.000000  44.000000   \n",
       "max    105.000000    NaN  93.000000  100.000000  98.000000  81.000000   \n",
       "\n",
       "              P90        P70        P50        P30    ...              HA  \\\n",
       "count   49.000000  49.000000  49.000000  49.000000    ...       49.000000   \n",
       "mean    85.775510  70.061224  57.795918  45.408163    ...       13.326531   \n",
       "std     13.823689  21.319404  23.437843  23.452895    ...       25.570481   \n",
       "min     32.000000  14.000000   7.000000   4.000000    ...        0.000000   \n",
       "25%     82.000000  62.000000  43.000000  28.000000    ...        1.000000   \n",
       "50%     90.000000  71.000000  57.000000  39.000000    ...        3.000000   \n",
       "75%     95.000000  86.000000  77.000000  62.000000    ...       10.000000   \n",
       "max    100.000000  99.000000  98.000000  95.000000    ...      100.000000   \n",
       "\n",
       "               HB         HC         HD         HE         LA         LB  \\\n",
       "count   49.000000  49.000000  49.000000  40.000000  49.000000  49.000000   \n",
       "mean    18.020408  28.795918  16.510204  24.600000  16.795918  21.020408   \n",
       "std     32.071853  36.203694  28.744653  36.889857  15.242457  15.324939   \n",
       "min      0.000000   0.000000   0.000000   0.000000   2.000000   3.000000   \n",
       "25%      2.000000   2.000000   1.000000   1.000000   7.000000  11.000000   \n",
       "50%      4.000000   9.000000   2.000000   2.000000  12.000000  17.000000   \n",
       "75%      9.000000  69.000000   6.000000  43.500000  22.000000  23.000000   \n",
       "max    100.000000  99.000000  91.000000  96.000000  81.000000  75.000000   \n",
       "\n",
       "              LC         LD         LE  \n",
       "count  49.000000  49.000000  40.000000  \n",
       "mean   24.979592  15.448980  16.000000  \n",
       "std    15.159554   8.935093  14.983752  \n",
       "min     6.000000   2.000000   1.000000  \n",
       "25%    13.000000   9.000000   6.000000  \n",
       "50%    22.000000  14.000000  10.500000  \n",
       "75%    31.000000  22.000000  20.500000  \n",
       "max    81.000000  40.000000  67.000000  \n",
       "\n",
       "[8 rows x 32 columns]"
      ]
     },
     "execution_count": 15,
     "metadata": {},
     "output_type": "execute_result"
    }
   ],
   "source": [
    "singCho.describe()"
   ]
  },
  {
   "cell_type": "code",
   "execution_count": 16,
   "metadata": {
    "collapsed": false
   },
   "outputs": [
    {
     "data": {
      "text/html": [
       "<div>\n",
       "<table border=\"1\" class=\"dataframe\">\n",
       "  <thead>\n",
       "    <tr style=\"text-align: right;\">\n",
       "      <th></th>\n",
       "      <th>題數</th>\n",
       "    </tr>\n",
       "    <tr>\n",
       "      <th>答案</th>\n",
       "      <th></th>\n",
       "    </tr>\n",
       "  </thead>\n",
       "  <tbody>\n",
       "    <tr>\n",
       "      <th>(B)(D)</th>\n",
       "      <td>8</td>\n",
       "    </tr>\n",
       "    <tr>\n",
       "      <th>(A)(D)</th>\n",
       "      <td>7</td>\n",
       "    </tr>\n",
       "    <tr>\n",
       "      <th>(A)(B)</th>\n",
       "      <td>6</td>\n",
       "    </tr>\n",
       "    <tr>\n",
       "      <th>(C)(D)</th>\n",
       "      <td>6</td>\n",
       "    </tr>\n",
       "    <tr>\n",
       "      <th>(A)(C)</th>\n",
       "      <td>6</td>\n",
       "    </tr>\n",
       "    <tr>\n",
       "      <th>(B)(C)(D)</th>\n",
       "      <td>4</td>\n",
       "    </tr>\n",
       "    <tr>\n",
       "      <th>(A)(B)(C)</th>\n",
       "      <td>4</td>\n",
       "    </tr>\n",
       "    <tr>\n",
       "      <th>(C)(D)(E)</th>\n",
       "      <td>3</td>\n",
       "    </tr>\n",
       "    <tr>\n",
       "      <th>(A)(B)(D)</th>\n",
       "      <td>3</td>\n",
       "    </tr>\n",
       "    <tr>\n",
       "      <th>(A)(C)(E)</th>\n",
       "      <td>3</td>\n",
       "    </tr>\n",
       "    <tr>\n",
       "      <th>(B)(E)</th>\n",
       "      <td>2</td>\n",
       "    </tr>\n",
       "    <tr>\n",
       "      <th>(B)(D)(E)</th>\n",
       "      <td>2</td>\n",
       "    </tr>\n",
       "    <tr>\n",
       "      <th>(B)(C)(E)</th>\n",
       "      <td>2</td>\n",
       "    </tr>\n",
       "    <tr>\n",
       "      <th>(B)</th>\n",
       "      <td>2</td>\n",
       "    </tr>\n",
       "    <tr>\n",
       "      <th>(A)(C)(D)</th>\n",
       "      <td>2</td>\n",
       "    </tr>\n",
       "    <tr>\n",
       "      <th>(B)(C)</th>\n",
       "      <td>1</td>\n",
       "    </tr>\n",
       "    <tr>\n",
       "      <th>(A)(D)(E)</th>\n",
       "      <td>1</td>\n",
       "    </tr>\n",
       "    <tr>\n",
       "      <th>(A)(B)(E)</th>\n",
       "      <td>1</td>\n",
       "    </tr>\n",
       "    <tr>\n",
       "      <th>(C)</th>\n",
       "      <td>1</td>\n",
       "    </tr>\n",
       "    <tr>\n",
       "      <th>(A)(B)(D)(E)</th>\n",
       "      <td>1</td>\n",
       "    </tr>\n",
       "    <tr>\n",
       "      <th>(A)(B)(C)(D)</th>\n",
       "      <td>1</td>\n",
       "    </tr>\n",
       "    <tr>\n",
       "      <th>(C)(E)</th>\n",
       "      <td>1</td>\n",
       "    </tr>\n",
       "    <tr>\n",
       "      <th>(D)(E)</th>\n",
       "      <td>1</td>\n",
       "    </tr>\n",
       "  </tbody>\n",
       "</table>\n",
       "</div>"
      ],
      "text/plain": [
       "              題數\n",
       "答案              \n",
       "(B)(D)         8\n",
       "(A)(D)         7\n",
       "(A)(B)         6\n",
       "(C)(D)         6\n",
       "(A)(C)         6\n",
       "(B)(C)(D)      4\n",
       "(A)(B)(C)      4\n",
       "(C)(D)(E)      3\n",
       "(A)(B)(D)      3\n",
       "(A)(C)(E)      3\n",
       "(B)(E)         2\n",
       "(B)(D)(E)      2\n",
       "(B)(C)(E)      2\n",
       "(B)            2\n",
       "(A)(C)(D)      2\n",
       "(B)(C)         1\n",
       "(A)(D)(E)      1\n",
       "(A)(B)(E)      1\n",
       "(C)            1\n",
       "(A)(B)(D)(E)   1\n",
       "(A)(B)(C)(D)   1\n",
       "(C)(E)         1\n",
       "(D)(E)         1"
      ]
     },
     "execution_count": 16,
     "metadata": {},
     "output_type": "execute_result"
    }
   ],
   "source": [
    "multChoAns = multCho[[\"答案\",\"P\"]].groupby(by = \"答案\").count()\n",
    "multChoAns.columns.values[0]=\"題數\"\n",
    "multChoAns.sort_values(\"題數\",ascending=False)"
   ]
  },
  {
   "cell_type": "code",
   "execution_count": 17,
   "metadata": {
    "collapsed": false
   },
   "outputs": [
    {
     "data": {
      "text/html": [
       "<div>\n",
       "<table border=\"1\" class=\"dataframe\">\n",
       "  <thead>\n",
       "    <tr style=\"text-align: right;\">\n",
       "      <th></th>\n",
       "      <th>題數</th>\n",
       "      <th>百分比</th>\n",
       "    </tr>\n",
       "    <tr>\n",
       "      <th>答案個數</th>\n",
       "      <th></th>\n",
       "      <th></th>\n",
       "    </tr>\n",
       "  </thead>\n",
       "  <tbody>\n",
       "    <tr>\n",
       "      <th>1</th>\n",
       "      <td>3</td>\n",
       "      <td>0.044118</td>\n",
       "    </tr>\n",
       "    <tr>\n",
       "      <th>2</th>\n",
       "      <td>38</td>\n",
       "      <td>0.558824</td>\n",
       "    </tr>\n",
       "    <tr>\n",
       "      <th>3</th>\n",
       "      <td>25</td>\n",
       "      <td>0.367647</td>\n",
       "    </tr>\n",
       "    <tr>\n",
       "      <th>4</th>\n",
       "      <td>2</td>\n",
       "      <td>0.029412</td>\n",
       "    </tr>\n",
       "  </tbody>\n",
       "</table>\n",
       "</div>"
      ],
      "text/plain": [
       "      題數       百分比\n",
       "答案個數              \n",
       "1      3  0.044118\n",
       "2     38  0.558824\n",
       "3     25  0.367647\n",
       "4      2  0.029412"
      ]
     },
     "execution_count": 17,
     "metadata": {},
     "output_type": "execute_result"
    }
   ],
   "source": [
    "multChoAns.reset_index(inplace=True)\n",
    "multChoAns[\"答案個數\"]=multChoAns[\"答案\"].apply(lambda x: round(len(x)/3),0)\n",
    "multChoAnsNum = multChoAns.groupby(\"答案個數\").sum()\n",
    "multChoAnsNum[\"百分比\"]=multChoAnsNum[\"題數\"]/len(multCho)\n",
    "multChoAnsNum"
   ]
  },
  {
   "cell_type": "markdown",
   "metadata": {},
   "source": [
    "計算三種題型在不同群體的答對率"
   ]
  },
  {
   "cell_type": "code",
   "execution_count": 18,
   "metadata": {
    "collapsed": false
   },
   "outputs": [
    {
     "data": {
      "text/html": [
       "<div>\n",
       "<table border=\"1\" class=\"dataframe\">\n",
       "  <thead>\n",
       "    <tr style=\"text-align: right;\">\n",
       "      <th></th>\n",
       "      <th>來源</th>\n",
       "      <th>P</th>\n",
       "      <th>Ph</th>\n",
       "      <th>Pm</th>\n",
       "      <th>Pl</th>\n",
       "      <th>P90</th>\n",
       "    </tr>\n",
       "    <tr>\n",
       "      <th>章節</th>\n",
       "      <th></th>\n",
       "      <th></th>\n",
       "      <th></th>\n",
       "      <th></th>\n",
       "      <th></th>\n",
       "      <th></th>\n",
       "    </tr>\n",
       "  </thead>\n",
       "  <tbody>\n",
       "    <tr>\n",
       "      <th>msssj 三角函數</th>\n",
       "      <td>27</td>\n",
       "      <td>42.695652</td>\n",
       "      <td>70.217391</td>\n",
       "      <td>40.391304</td>\n",
       "      <td>17.478261</td>\n",
       "      <td>77.826087</td>\n",
       "    </tr>\n",
       "    <tr>\n",
       "      <th>msskx 空間向量</th>\n",
       "      <td>23</td>\n",
       "      <td>47.000000</td>\n",
       "      <td>75.476190</td>\n",
       "      <td>47.523810</td>\n",
       "      <td>18.000000</td>\n",
       "      <td>82.095238</td>\n",
       "    </tr>\n",
       "    <tr>\n",
       "      <th>msawj 微積分</th>\n",
       "      <td>22</td>\n",
       "      <td>45.307692</td>\n",
       "      <td>76.307692</td>\n",
       "      <td>44.384615</td>\n",
       "      <td>15.230769</td>\n",
       "      <td>83.846154</td>\n",
       "    </tr>\n",
       "    <tr>\n",
       "      <th>msdjl 機率</th>\n",
       "      <td>21</td>\n",
       "      <td>49.526316</td>\n",
       "      <td>74.052632</td>\n",
       "      <td>49.736842</td>\n",
       "      <td>24.789474</td>\n",
       "      <td>80.368421</td>\n",
       "    </tr>\n",
       "    <tr>\n",
       "      <th>msajz 矩陣與方程組</th>\n",
       "      <td>16</td>\n",
       "      <td>48.500000</td>\n",
       "      <td>75.071429</td>\n",
       "      <td>50.642857</td>\n",
       "      <td>19.785714</td>\n",
       "      <td>80.428571</td>\n",
       "    </tr>\n",
       "    <tr>\n",
       "      <th>msajt 指數與對數</th>\n",
       "      <td>15</td>\n",
       "      <td>58.428571</td>\n",
       "      <td>82.714286</td>\n",
       "      <td>61.142857</td>\n",
       "      <td>31.428571</td>\n",
       "      <td>87.785714</td>\n",
       "    </tr>\n",
       "    <tr>\n",
       "      <th>msseq 二次曲線</th>\n",
       "      <td>12</td>\n",
       "      <td>27.200000</td>\n",
       "      <td>48.200000</td>\n",
       "      <td>25.000000</td>\n",
       "      <td>8.400000</td>\n",
       "      <td>56.000000</td>\n",
       "    </tr>\n",
       "    <tr>\n",
       "      <th>msadx 多項式</th>\n",
       "      <td>10</td>\n",
       "      <td>36.250000</td>\n",
       "      <td>61.625000</td>\n",
       "      <td>34.625000</td>\n",
       "      <td>12.500000</td>\n",
       "      <td>69.250000</td>\n",
       "    </tr>\n",
       "    <tr>\n",
       "      <th>msspx 平面向量</th>\n",
       "      <td>8</td>\n",
       "      <td>46.285714</td>\n",
       "      <td>71.000000</td>\n",
       "      <td>45.142857</td>\n",
       "      <td>22.714286</td>\n",
       "      <td>78.000000</td>\n",
       "    </tr>\n",
       "    <tr>\n",
       "      <th>msalm 極限</th>\n",
       "      <td>8</td>\n",
       "      <td>41.500000</td>\n",
       "      <td>65.125000</td>\n",
       "      <td>40.000000</td>\n",
       "      <td>19.375000</td>\n",
       "      <td>71.875000</td>\n",
       "    </tr>\n",
       "    <tr>\n",
       "      <th>msckx 數學綜合概念</th>\n",
       "      <td>8</td>\n",
       "      <td>51.428571</td>\n",
       "      <td>73.285714</td>\n",
       "      <td>50.285714</td>\n",
       "      <td>30.714286</td>\n",
       "      <td>79.285714</td>\n",
       "    </tr>\n",
       "    <tr>\n",
       "      <th>mssjy 直線與圓</th>\n",
       "      <td>6</td>\n",
       "      <td>43.400000</td>\n",
       "      <td>71.200000</td>\n",
       "      <td>41.200000</td>\n",
       "      <td>17.800000</td>\n",
       "      <td>78.800000</td>\n",
       "    </tr>\n",
       "    <tr>\n",
       "      <th>msajz 矩陣</th>\n",
       "      <td>4</td>\n",
       "      <td>65.500000</td>\n",
       "      <td>88.000000</td>\n",
       "      <td>68.250000</td>\n",
       "      <td>40.250000</td>\n",
       "      <td>92.250000</td>\n",
       "    </tr>\n",
       "    <tr>\n",
       "      <th>msdtj 統計</th>\n",
       "      <td>4</td>\n",
       "      <td>58.750000</td>\n",
       "      <td>77.500000</td>\n",
       "      <td>61.250000</td>\n",
       "      <td>37.500000</td>\n",
       "      <td>81.500000</td>\n",
       "    </tr>\n",
       "    <tr>\n",
       "      <th>msnsl 數列與遞迴</th>\n",
       "      <td>3</td>\n",
       "      <td>35.000000</td>\n",
       "      <td>56.000000</td>\n",
       "      <td>30.500000</td>\n",
       "      <td>18.500000</td>\n",
       "      <td>65.500000</td>\n",
       "    </tr>\n",
       "    <tr>\n",
       "      <th>msdsp 隨機變數</th>\n",
       "      <td>2</td>\n",
       "      <td>36.500000</td>\n",
       "      <td>59.000000</td>\n",
       "      <td>33.500000</td>\n",
       "      <td>17.000000</td>\n",
       "      <td>66.000000</td>\n",
       "    </tr>\n",
       "    <tr>\n",
       "      <th>msdpc 排列組合與記數原理</th>\n",
       "      <td>1</td>\n",
       "      <td>65.000000</td>\n",
       "      <td>91.000000</td>\n",
       "      <td>70.000000</td>\n",
       "      <td>34.000000</td>\n",
       "      <td>94.000000</td>\n",
       "    </tr>\n",
       "    <tr>\n",
       "      <th>msswj 微積分</th>\n",
       "      <td>1</td>\n",
       "      <td>20.000000</td>\n",
       "      <td>43.000000</td>\n",
       "      <td>16.000000</td>\n",
       "      <td>1.000000</td>\n",
       "      <td>54.000000</td>\n",
       "    </tr>\n",
       "  </tbody>\n",
       "</table>\n",
       "</div>"
      ],
      "text/plain": [
       "                 來源          P         Ph         Pm         Pl        P90\n",
       "章節                                                                        \n",
       "msssj 三角函數       27  42.695652  70.217391  40.391304  17.478261  77.826087\n",
       "msskx 空間向量       23  47.000000  75.476190  47.523810  18.000000  82.095238\n",
       "msawj 微積分        22  45.307692  76.307692  44.384615  15.230769  83.846154\n",
       "msdjl 機率         21  49.526316  74.052632  49.736842  24.789474  80.368421\n",
       "msajz 矩陣與方程組     16  48.500000  75.071429  50.642857  19.785714  80.428571\n",
       "msajt 指數與對數      15  58.428571  82.714286  61.142857  31.428571  87.785714\n",
       "msseq 二次曲線       12  27.200000  48.200000  25.000000   8.400000  56.000000\n",
       "msadx 多項式        10  36.250000  61.625000  34.625000  12.500000  69.250000\n",
       "msspx 平面向量        8  46.285714  71.000000  45.142857  22.714286  78.000000\n",
       "msalm 極限          8  41.500000  65.125000  40.000000  19.375000  71.875000\n",
       "msckx 數學綜合概念      8  51.428571  73.285714  50.285714  30.714286  79.285714\n",
       "mssjy 直線與圓        6  43.400000  71.200000  41.200000  17.800000  78.800000\n",
       "msajz 矩陣          4  65.500000  88.000000  68.250000  40.250000  92.250000\n",
       "msdtj 統計          4  58.750000  77.500000  61.250000  37.500000  81.500000\n",
       "msnsl 數列與遞迴       3  35.000000  56.000000  30.500000  18.500000  65.500000\n",
       "msdsp 隨機變數        2  36.500000  59.000000  33.500000  17.000000  66.000000\n",
       "msdpc 排列組合與記數原理   1  65.000000  91.000000  70.000000  34.000000  94.000000\n",
       "msswj 微積分         1  20.000000  43.000000  16.000000   1.000000  54.000000"
      ]
     },
     "execution_count": 18,
     "metadata": {},
     "output_type": "execute_result"
    }
   ],
   "source": [
    "exambyChapter = exam.groupby(\"章節\")\n",
    "exambyChapter = exambyChapter.agg({\"來源\":\"count\",\"P\":\"mean\",\"Ph\":\"mean\",\"Pm\":\"mean\",\"Pl\":\"mean\",\"P90\":\"mean\"})\n",
    "exambyChapter.sort_values(by=\"來源\",ascending=False)"
   ]
  },
  {
   "cell_type": "code",
   "execution_count": 19,
   "metadata": {
    "collapsed": false
   },
   "outputs": [
    {
     "data": {
      "text/html": [
       "<div>\n",
       "<table border=\"1\" class=\"dataframe\">\n",
       "  <thead>\n",
       "    <tr style=\"text-align: right;\">\n",
       "      <th></th>\n",
       "      <th>來源</th>\n",
       "      <th>P</th>\n",
       "      <th>Ph</th>\n",
       "      <th>Pm</th>\n",
       "      <th>Pl</th>\n",
       "      <th>P90</th>\n",
       "    </tr>\n",
       "    <tr>\n",
       "      <th>章節</th>\n",
       "      <th></th>\n",
       "      <th></th>\n",
       "      <th></th>\n",
       "      <th></th>\n",
       "      <th></th>\n",
       "      <th></th>\n",
       "    </tr>\n",
       "  </thead>\n",
       "  <tbody>\n",
       "    <tr>\n",
       "      <th>msswj 微積分</th>\n",
       "      <td>1</td>\n",
       "      <td>20.000000</td>\n",
       "      <td>43.000000</td>\n",
       "      <td>16.000000</td>\n",
       "      <td>1.000000</td>\n",
       "      <td>54.000000</td>\n",
       "    </tr>\n",
       "    <tr>\n",
       "      <th>msseq 二次曲線</th>\n",
       "      <td>12</td>\n",
       "      <td>27.200000</td>\n",
       "      <td>48.200000</td>\n",
       "      <td>25.000000</td>\n",
       "      <td>8.400000</td>\n",
       "      <td>56.000000</td>\n",
       "    </tr>\n",
       "    <tr>\n",
       "      <th>msnsl 數列與遞迴</th>\n",
       "      <td>3</td>\n",
       "      <td>35.000000</td>\n",
       "      <td>56.000000</td>\n",
       "      <td>30.500000</td>\n",
       "      <td>18.500000</td>\n",
       "      <td>65.500000</td>\n",
       "    </tr>\n",
       "    <tr>\n",
       "      <th>msdsp 隨機變數</th>\n",
       "      <td>2</td>\n",
       "      <td>36.500000</td>\n",
       "      <td>59.000000</td>\n",
       "      <td>33.500000</td>\n",
       "      <td>17.000000</td>\n",
       "      <td>66.000000</td>\n",
       "    </tr>\n",
       "    <tr>\n",
       "      <th>msadx 多項式</th>\n",
       "      <td>10</td>\n",
       "      <td>36.250000</td>\n",
       "      <td>61.625000</td>\n",
       "      <td>34.625000</td>\n",
       "      <td>12.500000</td>\n",
       "      <td>69.250000</td>\n",
       "    </tr>\n",
       "    <tr>\n",
       "      <th>msalm 極限</th>\n",
       "      <td>8</td>\n",
       "      <td>41.500000</td>\n",
       "      <td>65.125000</td>\n",
       "      <td>40.000000</td>\n",
       "      <td>19.375000</td>\n",
       "      <td>71.875000</td>\n",
       "    </tr>\n",
       "    <tr>\n",
       "      <th>msssj 三角函數</th>\n",
       "      <td>27</td>\n",
       "      <td>42.695652</td>\n",
       "      <td>70.217391</td>\n",
       "      <td>40.391304</td>\n",
       "      <td>17.478261</td>\n",
       "      <td>77.826087</td>\n",
       "    </tr>\n",
       "    <tr>\n",
       "      <th>msspx 平面向量</th>\n",
       "      <td>8</td>\n",
       "      <td>46.285714</td>\n",
       "      <td>71.000000</td>\n",
       "      <td>45.142857</td>\n",
       "      <td>22.714286</td>\n",
       "      <td>78.000000</td>\n",
       "    </tr>\n",
       "    <tr>\n",
       "      <th>mssjy 直線與圓</th>\n",
       "      <td>6</td>\n",
       "      <td>43.400000</td>\n",
       "      <td>71.200000</td>\n",
       "      <td>41.200000</td>\n",
       "      <td>17.800000</td>\n",
       "      <td>78.800000</td>\n",
       "    </tr>\n",
       "    <tr>\n",
       "      <th>msckx 數學綜合概念</th>\n",
       "      <td>8</td>\n",
       "      <td>51.428571</td>\n",
       "      <td>73.285714</td>\n",
       "      <td>50.285714</td>\n",
       "      <td>30.714286</td>\n",
       "      <td>79.285714</td>\n",
       "    </tr>\n",
       "    <tr>\n",
       "      <th>msdjl 機率</th>\n",
       "      <td>21</td>\n",
       "      <td>49.526316</td>\n",
       "      <td>74.052632</td>\n",
       "      <td>49.736842</td>\n",
       "      <td>24.789474</td>\n",
       "      <td>80.368421</td>\n",
       "    </tr>\n",
       "    <tr>\n",
       "      <th>msajz 矩陣與方程組</th>\n",
       "      <td>16</td>\n",
       "      <td>48.500000</td>\n",
       "      <td>75.071429</td>\n",
       "      <td>50.642857</td>\n",
       "      <td>19.785714</td>\n",
       "      <td>80.428571</td>\n",
       "    </tr>\n",
       "    <tr>\n",
       "      <th>msdtj 統計</th>\n",
       "      <td>4</td>\n",
       "      <td>58.750000</td>\n",
       "      <td>77.500000</td>\n",
       "      <td>61.250000</td>\n",
       "      <td>37.500000</td>\n",
       "      <td>81.500000</td>\n",
       "    </tr>\n",
       "    <tr>\n",
       "      <th>msskx 空間向量</th>\n",
       "      <td>23</td>\n",
       "      <td>47.000000</td>\n",
       "      <td>75.476190</td>\n",
       "      <td>47.523810</td>\n",
       "      <td>18.000000</td>\n",
       "      <td>82.095238</td>\n",
       "    </tr>\n",
       "    <tr>\n",
       "      <th>msawj 微積分</th>\n",
       "      <td>22</td>\n",
       "      <td>45.307692</td>\n",
       "      <td>76.307692</td>\n",
       "      <td>44.384615</td>\n",
       "      <td>15.230769</td>\n",
       "      <td>83.846154</td>\n",
       "    </tr>\n",
       "    <tr>\n",
       "      <th>msajt 指數與對數</th>\n",
       "      <td>15</td>\n",
       "      <td>58.428571</td>\n",
       "      <td>82.714286</td>\n",
       "      <td>61.142857</td>\n",
       "      <td>31.428571</td>\n",
       "      <td>87.785714</td>\n",
       "    </tr>\n",
       "    <tr>\n",
       "      <th>msajz 矩陣</th>\n",
       "      <td>4</td>\n",
       "      <td>65.500000</td>\n",
       "      <td>88.000000</td>\n",
       "      <td>68.250000</td>\n",
       "      <td>40.250000</td>\n",
       "      <td>92.250000</td>\n",
       "    </tr>\n",
       "    <tr>\n",
       "      <th>msdpc 排列組合與記數原理</th>\n",
       "      <td>1</td>\n",
       "      <td>65.000000</td>\n",
       "      <td>91.000000</td>\n",
       "      <td>70.000000</td>\n",
       "      <td>34.000000</td>\n",
       "      <td>94.000000</td>\n",
       "    </tr>\n",
       "  </tbody>\n",
       "</table>\n",
       "</div>"
      ],
      "text/plain": [
       "                 來源          P         Ph         Pm         Pl        P90\n",
       "章節                                                                        \n",
       "msswj 微積分         1  20.000000  43.000000  16.000000   1.000000  54.000000\n",
       "msseq 二次曲線       12  27.200000  48.200000  25.000000   8.400000  56.000000\n",
       "msnsl 數列與遞迴       3  35.000000  56.000000  30.500000  18.500000  65.500000\n",
       "msdsp 隨機變數        2  36.500000  59.000000  33.500000  17.000000  66.000000\n",
       "msadx 多項式        10  36.250000  61.625000  34.625000  12.500000  69.250000\n",
       "msalm 極限          8  41.500000  65.125000  40.000000  19.375000  71.875000\n",
       "msssj 三角函數       27  42.695652  70.217391  40.391304  17.478261  77.826087\n",
       "msspx 平面向量        8  46.285714  71.000000  45.142857  22.714286  78.000000\n",
       "mssjy 直線與圓        6  43.400000  71.200000  41.200000  17.800000  78.800000\n",
       "msckx 數學綜合概念      8  51.428571  73.285714  50.285714  30.714286  79.285714\n",
       "msdjl 機率         21  49.526316  74.052632  49.736842  24.789474  80.368421\n",
       "msajz 矩陣與方程組     16  48.500000  75.071429  50.642857  19.785714  80.428571\n",
       "msdtj 統計          4  58.750000  77.500000  61.250000  37.500000  81.500000\n",
       "msskx 空間向量       23  47.000000  75.476190  47.523810  18.000000  82.095238\n",
       "msawj 微積分        22  45.307692  76.307692  44.384615  15.230769  83.846154\n",
       "msajt 指數與對數      15  58.428571  82.714286  61.142857  31.428571  87.785714\n",
       "msajz 矩陣          4  65.500000  88.000000  68.250000  40.250000  92.250000\n",
       "msdpc 排列組合與記數原理   1  65.000000  91.000000  70.000000  34.000000  94.000000"
      ]
     },
     "execution_count": 19,
     "metadata": {},
     "output_type": "execute_result"
    }
   ],
   "source": [
    "exambyChapter.sort_values(by=\"P90\",ascending=True)"
   ]
  },
  {
   "cell_type": "code",
   "execution_count": 20,
   "metadata": {
    "collapsed": false
   },
   "outputs": [
    {
     "name": "stderr",
     "output_type": "stream",
     "text": [
      "/Users/acchu/anaconda/lib/python3.6/site-packages/matplotlib/axes/_base.py:2903: UserWarning: Attempting to set identical left==right results\n",
      "in singular transformations; automatically expanding.\n",
      "left=-0.5, right=-0.5\n",
      "  'left=%s, right=%s') % (left, right))\n"
     ]
    },
    {
     "data": {
      "text/plain": [
       "<matplotlib.axes._subplots.AxesSubplot at 0x118800978>"
      ]
     },
     "execution_count": 20,
     "metadata": {},
     "output_type": "execute_result"
    },
    {
     "data": {
      "image/png": "[encoded data removed]",
      "text/plain": [
       "<matplotlib.figure.Figure at 0x11863c2b0>"
      ]
     },
     "metadata": {},
     "output_type": "display_data"
    }
   ],
   "source": [
    "plt.figure(figsize=(16,6))\n",
    "font = {'size':24}\n",
    "matplotlib.rc('font',**font)\n",
    "sns.stripplot(x=\"章節（短）\",y=\"P\",data=exnonCho,hue=\"題型\",jitter=True)"
   ]
  },
  {
   "cell_type": "code",
   "execution_count": 32,
   "metadata": {
    "collapsed": false
   },
   "outputs": [
    {
     "data": {
      "text/plain": [
       "<seaborn.axisgrid.JointGrid at 0x11a992ef0>"
      ]
     },
     "execution_count": 32,
     "metadata": {},
     "output_type": "execute_result"
    },
    {
     "data": {
      "image/png": "[encoded data removed]",
      "text/plain": [
       "<matplotlib.figure.Figure at 0x11a992da0>"
      ]
     },
     "metadata": {},
     "output_type": "display_data"
    }
   ],
   "source": [
    "sns.jointplot(x=\"P\",y=\"D\",data=exam)"
   ]
  },
  {
   "cell_type": "code",
   "execution_count": 35,
   "metadata": {
    "collapsed": false
   },
   "outputs": [
    {
     "data": {
      "text/plain": [
       "<seaborn.axisgrid.FacetGrid at 0x11ac0a240>"
      ]
     },
     "execution_count": 35,
     "metadata": {},
     "output_type": "execute_result"
    },
    {
     "data": {
      "image/png": "[encoded data removed]",
      "text/plain": [
       "<matplotlib.figure.Figure at 0x11ac0a400>"
      ]
     },
     "metadata": {},
     "output_type": "display_data"
    }
   ],
   "source": [
    "g = sns.FacetGrid(exChoBox,col=\"題型\",hue=\"年份\")\n",
    "g.map(plt.scatter,\"P\",\"D\")"
   ]
  },
  {
   "cell_type": "code",
   "execution_count": 22,
   "metadata": {
    "collapsed": false
   },
   "outputs": [
    {
     "data": {
      "text/plain": [
       "<seaborn.axisgrid.JointGrid at 0x1185d01d0>"
      ]
     },
     "execution_count": 22,
     "metadata": {},
     "output_type": "execute_result"
    },
    {
     "data": {
      "image/png": "[encoded data removed]",
      "text/plain": [
       "<matplotlib.figure.Figure at 0x119015c50>"
      ]
     },
     "metadata": {},
     "output_type": "display_data"
    }
   ],
   "source": [
    "sns.jointplot(x=\"P\",y=\"D\",data=singCho)"
   ]
  },
  {
   "cell_type": "code",
   "execution_count": 23,
   "metadata": {
    "collapsed": false
   },
   "outputs": [
    {
     "data": {
      "text/plain": [
       "<seaborn.axisgrid.JointGrid at 0x118494ef0>"
      ]
     },
     "execution_count": 23,
     "metadata": {},
     "output_type": "execute_result"
    },
    {
     "data": {
      "image/png": "[encoded data removed]",
      "text/plain": [
       "<matplotlib.figure.Figure at 0x118338278>"
      ]
     },
     "metadata": {},
     "output_type": "display_data"
    }
   ],
   "source": [
    "sns.jointplot(x=\"P\",y=\"D\",data=multCho)"
   ]
  },
  {
   "cell_type": "code",
   "execution_count": 24,
   "metadata": {
    "collapsed": false
   },
   "outputs": [
    {
     "data": {
      "text/plain": [
       "<seaborn.axisgrid.JointGrid at 0x1191e2208>"
      ]
     },
     "execution_count": 24,
     "metadata": {},
     "output_type": "execute_result"
    },
    {
     "data": {
      "image/png": "[encoded data removed]",
      "text/plain": [
       "<matplotlib.figure.Figure at 0x1191db278>"
      ]
     },
     "metadata": {},
     "output_type": "display_data"
    }
   ],
   "source": [
    "sns.jointplot(x=\"P\",y=\"D\",data=textBox)"
   ]
  }
 ],
 "metadata": {
  "kernelspec": {
   "display_name": "Python 3",
   "language": "python",
   "name": "python3"
  },
  "language_info": {
   "codemirror_mode": {
    "name": "ipython",
    "version": 3
   },
   "file_extension": ".py",
   "mimetype": "text/x-python",
   "name": "python",
   "nbconvert_exporter": "python",
   "pygments_lexer": "ipython3",
   "version": "3.6.0"
  }
 },
 "nbformat": 4,
 "nbformat_minor": 2
}
