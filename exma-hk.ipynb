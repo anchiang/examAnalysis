{
 "cells": [
  {
   "cell_type": "markdown",
   "metadata": {},
   "source": [
    "1-1. 載入所需的套件 pandas, matplotlib, numpy, "
   ]
  },
  {
   "cell_type": "code",
   "execution_count": 63,
   "metadata": {
    "collapsed": false
   },
   "outputs": [],
   "source": [
    "import pandas as pd\n",
    "import numpy as np\n",
    "import matplotlib.pyplot as plt\n",
    "import matplotlib\n",
    "matplotlib.rcParams['font.sans-serif'] = 'HanWangHeiHeavy' # 設定字型檔讓 matplotlib 使用\n",
    "import collections\n",
    "import seaborn as sns\n",
    "%matplotlib inline\n",
    "pd.options.display.float_format = '{:,.2f}'.format"
   ]
  },
  {
   "cell_type": "markdown",
   "metadata": {},
   "source": [
    "1-2. 載入資料學測資料檔 exam_xc.csv 存為變數 examxc"
   ]
  },
  {
   "cell_type": "code",
   "execution_count": 64,
   "metadata": {
    "collapsed": false,
    "scrolled": true
   },
   "outputs": [
    {
     "data": {
      "text/html": [
       "<div>\n",
       "<table border=\"1\" class=\"dataframe\">\n",
       "  <thead>\n",
       "    <tr style=\"text-align: right;\">\n",
       "      <th></th>\n",
       "      <th>QID</th>\n",
       "      <th>代號</th>\n",
       "      <th>來源</th>\n",
       "      <th>類別</th>\n",
       "      <th>年份</th>\n",
       "      <th>題型</th>\n",
       "      <th>題號</th>\n",
       "      <th>題目簡述</th>\n",
       "      <th>答案</th>\n",
       "      <th>章節</th>\n",
       "      <th>章節（短）</th>\n",
       "      <th>大主題</th>\n",
       "      <th>P</th>\n",
       "      <th>Book</th>\n",
       "    </tr>\n",
       "  </thead>\n",
       "  <tbody>\n",
       "    <tr>\n",
       "      <th>0</th>\n",
       "      <td>13,867.00</td>\n",
       "      <td>jdchk-ma103-1-01ax</td>\n",
       "      <td>會考數學103</td>\n",
       "      <td>會考數學</td>\n",
       "      <td>103</td>\n",
       "      <td>單選</td>\n",
       "      <td>1</td>\n",
       "      <td>根式的化簡</td>\n",
       "      <td>(D)</td>\n",
       "      <td>m4ngs-1 根式</td>\n",
       "      <td>根式</td>\n",
       "      <td>數與量</td>\n",
       "      <td>64</td>\n",
       "      <td>3</td>\n",
       "    </tr>\n",
       "    <tr>\n",
       "      <th>1</th>\n",
       "      <td>13,868.00</td>\n",
       "      <td>jdchk-ma103-1-02ax</td>\n",
       "      <td>會考數學103</td>\n",
       "      <td>會考數學</td>\n",
       "      <td>103</td>\n",
       "      <td>單選</td>\n",
       "      <td>2</td>\n",
       "      <td>從標準分解式找因數</td>\n",
       "      <td>(C)</td>\n",
       "      <td>m4nyb-1 因數與倍數</td>\n",
       "      <td>因數與倍數</td>\n",
       "      <td>數與量</td>\n",
       "      <td>74</td>\n",
       "      <td>1</td>\n",
       "    </tr>\n",
       "    <tr>\n",
       "      <th>2</th>\n",
       "      <td>13,869.00</td>\n",
       "      <td>jdchk-ma103-1-03ax</td>\n",
       "      <td>會考數學103</td>\n",
       "      <td>會考數學</td>\n",
       "      <td>103</td>\n",
       "      <td>單選</td>\n",
       "      <td>3</td>\n",
       "      <td>求梯形的上底</td>\n",
       "      <td>(C)</td>\n",
       "      <td>m4ngs-1 根式</td>\n",
       "      <td>根式</td>\n",
       "      <td>數與量</td>\n",
       "      <td>68</td>\n",
       "      <td>3</td>\n",
       "    </tr>\n",
       "    <tr>\n",
       "      <th>3</th>\n",
       "      <td>13,870.00</td>\n",
       "      <td>jdchk-ma103-1-04ax</td>\n",
       "      <td>會考數學103</td>\n",
       "      <td>會考數學</td>\n",
       "      <td>103</td>\n",
       "      <td>單選</td>\n",
       "      <td>4</td>\n",
       "      <td>取牌組出 6 的倍數的機率</td>\n",
       "      <td>(A)</td>\n",
       "      <td>m4djl-1 基礎機率</td>\n",
       "      <td>基礎機率</td>\n",
       "      <td>機率統計</td>\n",
       "      <td>67</td>\n",
       "      <td>6</td>\n",
       "    </tr>\n",
       "    <tr>\n",
       "      <th>4</th>\n",
       "      <td>13,871.00</td>\n",
       "      <td>jdchk-ma103-1-05ax</td>\n",
       "      <td>會考數學103</td>\n",
       "      <td>會考數學</td>\n",
       "      <td>103</td>\n",
       "      <td>單選</td>\n",
       "      <td>5</td>\n",
       "      <td>用乘法公式化簡</td>\n",
       "      <td>(A)</td>\n",
       "      <td>m4adx-2 乘法公式</td>\n",
       "      <td>多項式與乘法公式</td>\n",
       "      <td>代數</td>\n",
       "      <td>73</td>\n",
       "      <td>3</td>\n",
       "    </tr>\n",
       "  </tbody>\n",
       "</table>\n",
       "</div>"
      ],
      "text/plain": [
       "        QID                  代號       來源    類別   年份  題型  題號           題目簡述  \\\n",
       "0 13,867.00  jdchk-ma103-1-01ax  會考數學103  會考數學  103  單選   1          根式的化簡   \n",
       "1 13,868.00  jdchk-ma103-1-02ax  會考數學103  會考數學  103  單選   2      從標準分解式找因數   \n",
       "2 13,869.00  jdchk-ma103-1-03ax  會考數學103  會考數學  103  單選   3         求梯形的上底   \n",
       "3 13,870.00  jdchk-ma103-1-04ax  會考數學103  會考數學  103  單選   4  取牌組出 6 的倍數的機率   \n",
       "4 13,871.00  jdchk-ma103-1-05ax  會考數學103  會考數學  103  單選   5        用乘法公式化簡   \n",
       "\n",
       "    答案             章節     章節（短）   大主題   P  Book  \n",
       "0  (D)     m4ngs-1 根式        根式   數與量  64     3  \n",
       "1  (C)  m4nyb-1 因數與倍數     因數與倍數   數與量  74     1  \n",
       "2  (C)     m4ngs-1 根式        根式   數與量  68     3  \n",
       "3  (A)   m4djl-1 基礎機率      基礎機率  機率統計  67     6  \n",
       "4  (A)   m4adx-2 乘法公式  多項式與乘法公式    代數  73     3  "
      ]
     },
     "execution_count": 64,
     "metadata": {},
     "output_type": "execute_result"
    }
   ],
   "source": [
    "exam = pd.read_csv('exam_hk.csv')\n",
    "exam.head(5)"
   ]
  },
  {
   "cell_type": "markdown",
   "metadata": {},
   "source": [
    "1-3. 刪除 QID 欄，且將代號設為 index"
   ]
  },
  {
   "cell_type": "code",
   "execution_count": 65,
   "metadata": {
    "collapsed": false
   },
   "outputs": [
    {
     "data": {
      "text/html": [
       "<div>\n",
       "<table border=\"1\" class=\"dataframe\">\n",
       "  <thead>\n",
       "    <tr style=\"text-align: right;\">\n",
       "      <th></th>\n",
       "      <th>來源</th>\n",
       "      <th>類別</th>\n",
       "      <th>年份</th>\n",
       "      <th>題型</th>\n",
       "      <th>題號</th>\n",
       "      <th>題目簡述</th>\n",
       "      <th>答案</th>\n",
       "      <th>章節</th>\n",
       "      <th>章節（短）</th>\n",
       "      <th>大主題</th>\n",
       "      <th>P</th>\n",
       "      <th>Book</th>\n",
       "    </tr>\n",
       "    <tr>\n",
       "      <th>代號</th>\n",
       "      <th></th>\n",
       "      <th></th>\n",
       "      <th></th>\n",
       "      <th></th>\n",
       "      <th></th>\n",
       "      <th></th>\n",
       "      <th></th>\n",
       "      <th></th>\n",
       "      <th></th>\n",
       "      <th></th>\n",
       "      <th></th>\n",
       "      <th></th>\n",
       "    </tr>\n",
       "  </thead>\n",
       "  <tbody>\n",
       "    <tr>\n",
       "      <th>jdchk-ma103-1-01ax</th>\n",
       "      <td>會考數學103</td>\n",
       "      <td>會考數學</td>\n",
       "      <td>103</td>\n",
       "      <td>單選</td>\n",
       "      <td>1</td>\n",
       "      <td>根式的化簡</td>\n",
       "      <td>(D)</td>\n",
       "      <td>m4ngs-1 根式</td>\n",
       "      <td>根式</td>\n",
       "      <td>數與量</td>\n",
       "      <td>64</td>\n",
       "      <td>3</td>\n",
       "    </tr>\n",
       "    <tr>\n",
       "      <th>jdchk-ma103-1-02ax</th>\n",
       "      <td>會考數學103</td>\n",
       "      <td>會考數學</td>\n",
       "      <td>103</td>\n",
       "      <td>單選</td>\n",
       "      <td>2</td>\n",
       "      <td>從標準分解式找因數</td>\n",
       "      <td>(C)</td>\n",
       "      <td>m4nyb-1 因數與倍數</td>\n",
       "      <td>因數與倍數</td>\n",
       "      <td>數與量</td>\n",
       "      <td>74</td>\n",
       "      <td>1</td>\n",
       "    </tr>\n",
       "  </tbody>\n",
       "</table>\n",
       "</div>"
      ],
      "text/plain": [
       "                         來源    類別   年份  題型  題號       題目簡述   答案             章節  \\\n",
       "代號                                                                              \n",
       "jdchk-ma103-1-01ax  會考數學103  會考數學  103  單選   1      根式的化簡  (D)     m4ngs-1 根式   \n",
       "jdchk-ma103-1-02ax  會考數學103  會考數學  103  單選   2  從標準分解式找因數  (C)  m4nyb-1 因數與倍數   \n",
       "\n",
       "                    章節（短）  大主題   P  Book  \n",
       "代號                                        \n",
       "jdchk-ma103-1-01ax     根式  數與量  64     3  \n",
       "jdchk-ma103-1-02ax  因數與倍數  數與量  74     1  "
      ]
     },
     "execution_count": 65,
     "metadata": {},
     "output_type": "execute_result"
    }
   ],
   "source": [
    "del exam[\"QID\"]\n",
    "exam = exam.set_index([\"代號\"])\n",
    "exam.head(2)"
   ]
  },
  {
   "cell_type": "markdown",
   "metadata": {},
   "source": [
    "2.1 分別計算 單選, 多選, 填充的數量"
   ]
  },
  {
   "cell_type": "code",
   "execution_count": 66,
   "metadata": {
    "collapsed": false
   },
   "outputs": [
    {
     "data": {
      "text/plain": [
       "<matplotlib.axes._subplots.AxesSubplot at 0x11d4417b8>"
      ]
     },
     "execution_count": 66,
     "metadata": {},
     "output_type": "execute_result"
    },
    {
     "data": {
      "image/png": "[encoded data removed]",
      "text/plain": [
       "<matplotlib.figure.Figure at 0x11d431400>"
      ]
     },
     "metadata": {},
     "output_type": "display_data"
    }
   ],
   "source": [
    "plt.figure(figsize=(16,6))\n",
    "sns.stripplot(x=\"年份\",y=\"P\",data=exam,jitter=True,hue=\"Book\")"
   ]
  },
  {
   "cell_type": "code",
   "execution_count": 67,
   "metadata": {
    "collapsed": false
   },
   "outputs": [
    {
     "data": {
      "text/html": [
       "<div>\n",
       "<table border=\"1\" class=\"dataframe\">\n",
       "  <thead>\n",
       "    <tr style=\"text-align: right;\">\n",
       "      <th>年份</th>\n",
       "      <th>103</th>\n",
       "      <th>104</th>\n",
       "      <th>105</th>\n",
       "      <th>106</th>\n",
       "    </tr>\n",
       "  </thead>\n",
       "  <tbody>\n",
       "    <tr>\n",
       "      <th>P</th>\n",
       "      <td>51.33</td>\n",
       "      <td>53.28</td>\n",
       "      <td>54.88</td>\n",
       "      <td>56.92</td>\n",
       "    </tr>\n",
       "  </tbody>\n",
       "</table>\n",
       "</div>"
      ],
      "text/plain": [
       "年份   103   104   105   106\n",
       "P  51.33 53.28 54.88 56.92"
      ]
     },
     "execution_count": 67,
     "metadata": {},
     "output_type": "execute_result"
    }
   ],
   "source": [
    "exam[[\"年份\",\"P\"]].groupby(\"年份\").mean().T"
   ]
  },
  {
   "cell_type": "code",
   "execution_count": 68,
   "metadata": {
    "collapsed": false
   },
   "outputs": [
    {
     "data": {
      "text/html": [
       "<div>\n",
       "<table border=\"1\" class=\"dataframe\">\n",
       "  <thead>\n",
       "    <tr style=\"text-align: right;\">\n",
       "      <th>大主題</th>\n",
       "      <th>代數</th>\n",
       "      <th>幾何</th>\n",
       "      <th>數與量</th>\n",
       "      <th>機率統計</th>\n",
       "    </tr>\n",
       "  </thead>\n",
       "  <tbody>\n",
       "    <tr>\n",
       "      <th>P</th>\n",
       "      <td>57.61</td>\n",
       "      <td>48.98</td>\n",
       "      <td>56.30</td>\n",
       "      <td>59.75</td>\n",
       "    </tr>\n",
       "  </tbody>\n",
       "</table>\n",
       "</div>"
      ],
      "text/plain": [
       "大主題    代數    幾何   數與量  機率統計\n",
       "P   57.61 48.98 56.30 59.75"
      ]
     },
     "execution_count": 68,
     "metadata": {},
     "output_type": "execute_result"
    }
   ],
   "source": [
    "exam[[\"大主題\",\"P\"]].groupby(\"大主題\").mean().T"
   ]
  },
  {
   "cell_type": "code",
   "execution_count": 69,
   "metadata": {
    "collapsed": false
   },
   "outputs": [
    {
     "data": {
      "text/html": [
       "<div>\n",
       "<table border=\"1\" class=\"dataframe\">\n",
       "  <thead>\n",
       "    <tr style=\"text-align: right;\">\n",
       "      <th>年份</th>\n",
       "      <th>103</th>\n",
       "      <th>104</th>\n",
       "      <th>105</th>\n",
       "      <th>106</th>\n",
       "    </tr>\n",
       "    <tr>\n",
       "      <th>大主題</th>\n",
       "      <th></th>\n",
       "      <th></th>\n",
       "      <th></th>\n",
       "      <th></th>\n",
       "    </tr>\n",
       "  </thead>\n",
       "  <tbody>\n",
       "    <tr>\n",
       "      <th>代數</th>\n",
       "      <td>53.88</td>\n",
       "      <td>57.86</td>\n",
       "      <td>59.67</td>\n",
       "      <td>59.86</td>\n",
       "    </tr>\n",
       "    <tr>\n",
       "      <th>幾何</th>\n",
       "      <td>47.10</td>\n",
       "      <td>48.67</td>\n",
       "      <td>47.64</td>\n",
       "      <td>52.60</td>\n",
       "    </tr>\n",
       "    <tr>\n",
       "      <th>數與量</th>\n",
       "      <td>55.57</td>\n",
       "      <td>50.71</td>\n",
       "      <td>61.33</td>\n",
       "      <td>58.29</td>\n",
       "    </tr>\n",
       "    <tr>\n",
       "      <th>機率統計</th>\n",
       "      <td>47.50</td>\n",
       "      <td>67.00</td>\n",
       "      <td>61.00</td>\n",
       "      <td>63.50</td>\n",
       "    </tr>\n",
       "  </tbody>\n",
       "</table>\n",
       "</div>"
      ],
      "text/plain": [
       "年份     103   104   105   106\n",
       "大主題                         \n",
       "代數   53.88 57.86 59.67 59.86\n",
       "幾何   47.10 48.67 47.64 52.60\n",
       "數與量  55.57 50.71 61.33 58.29\n",
       "機率統計 47.50 67.00 61.00 63.50"
      ]
     },
     "execution_count": 69,
     "metadata": {},
     "output_type": "execute_result"
    }
   ],
   "source": [
    "exam[[\"年份\",\"大主題\",\"P\"]].pivot_table(index=\"年份\",columns=\"大主題\",values='P',aggfunc=np.mean).T"
   ]
  },
  {
   "cell_type": "code",
   "execution_count": 70,
   "metadata": {
    "collapsed": false
   },
   "outputs": [
    {
     "data": {
      "text/plain": [
       "<seaborn.axisgrid.JointGrid at 0x11d300470>"
      ]
     },
     "execution_count": 70,
     "metadata": {},
     "output_type": "execute_result"
    },
    {
     "data": {
      "image/png": "[encoded data removed]",
      "text/plain": [
       "<matplotlib.figure.Figure at 0x119f0bcf8>"
      ]
     },
     "metadata": {},
     "output_type": "display_data"
    }
   ],
   "source": [
    "sns.jointplot(x=\"題號\",y=\"P\",data=exam)"
   ]
  },
  {
   "cell_type": "code",
   "execution_count": 71,
   "metadata": {
    "collapsed": false,
    "scrolled": true
   },
   "outputs": [
    {
     "data": {
      "text/plain": [
       "<seaborn.axisgrid.FacetGrid at 0x11d9a7198>"
      ]
     },
     "execution_count": 71,
     "metadata": {},
     "output_type": "execute_result"
    },
    {
     "data": {
      "image/png": "[encoded data removed]",
      "text/plain": [
       "<matplotlib.figure.Figure at 0x11d7a96d8>"
      ]
     },
     "metadata": {},
     "output_type": "display_data"
    }
   ],
   "source": [
    "g = sns.FacetGrid(exam,col=\"大主題\",hue=\"年份\")\n",
    "g.map(plt.scatter,\"題號\",\"P\")"
   ]
  },
  {
   "cell_type": "markdown",
   "metadata": {},
   "source": [
    "將 單選, 多選, 填充 分成三個表 singCho, multCho, textBox"
   ]
  },
  {
   "cell_type": "code",
   "execution_count": 72,
   "metadata": {
    "collapsed": false
   },
   "outputs": [
    {
     "data": {
      "image/png": "[encoded data removed]",
      "text/plain": [
       "<matplotlib.figure.Figure at 0x1195cf9b0>"
      ]
     },
     "metadata": {},
     "output_type": "display_data"
    }
   ],
   "source": [
    "singCho = exam[exam[\"題型\"].isin(['單選'])]\n",
    "singChoAns = singCho[[\"答案\",\"P\"]].groupby(by = \"答案\").count()\n",
    "singChoAns.columns.values[0]=\"題數\"\n",
    "singChoAns[\"百分比\"]= singChoAns[\"題數\"]/len(singCho)\n",
    "plt.figure(figsize=(16,6))\n",
    "ax1 = plt.subplot(121,aspect=\"equal\")\n",
    "singChoAns.plot(kind='pie',y=\"題數\",ax=ax1, autopct=\"%2d%%\",fontsize = 20,legend=False)\n",
    "ax2 = plt.subplot(122)\n",
    "plt.axis(\"off\")\n",
    "from pandas.tools.plotting import table\n",
    "tbl = table(ax2,singChoAns,loc=\"center\")\n",
    "tbl.auto_set_font_size(False)\n",
    "tbl.set_fontsize(16)\n",
    "plt.show()"
   ]
  },
  {
   "cell_type": "markdown",
   "metadata": {},
   "source": [
    "計算三種題型在不同群體的答對率"
   ]
  },
  {
   "cell_type": "code",
   "execution_count": 60,
   "metadata": {
    "collapsed": false
   },
   "outputs": [
    {
     "data": {
      "text/html": [
       "<div>\n",
       "<table border=\"1\" class=\"dataframe\">\n",
       "  <thead>\n",
       "    <tr style=\"text-align: right;\">\n",
       "      <th></th>\n",
       "      <th>來源</th>\n",
       "      <th>P</th>\n",
       "    </tr>\n",
       "    <tr>\n",
       "      <th>章節（短）</th>\n",
       "      <th></th>\n",
       "      <th></th>\n",
       "    </tr>\n",
       "  </thead>\n",
       "  <tbody>\n",
       "    <tr>\n",
       "      <th>幾何證明與三心</th>\n",
       "      <td>9</td>\n",
       "      <td>41.89</td>\n",
       "    </tr>\n",
       "    <tr>\n",
       "      <th>圓</th>\n",
       "      <td>7</td>\n",
       "      <td>56.43</td>\n",
       "    </tr>\n",
       "    <tr>\n",
       "      <th>根式</th>\n",
       "      <td>6</td>\n",
       "      <td>65.33</td>\n",
       "    </tr>\n",
       "    <tr>\n",
       "      <th>二元一次聯立方程式</th>\n",
       "      <td>6</td>\n",
       "      <td>65.67</td>\n",
       "    </tr>\n",
       "    <tr>\n",
       "      <th>相似形</th>\n",
       "      <td>5</td>\n",
       "      <td>44.60</td>\n",
       "    </tr>\n",
       "    <tr>\n",
       "      <th>因數與倍數</th>\n",
       "      <td>5</td>\n",
       "      <td>49.60</td>\n",
       "    </tr>\n",
       "    <tr>\n",
       "      <th>三角形的基本性質</th>\n",
       "      <td>5</td>\n",
       "      <td>42.00</td>\n",
       "    </tr>\n",
       "    <tr>\n",
       "      <th>比與比例</th>\n",
       "      <td>5</td>\n",
       "      <td>40.00</td>\n",
       "    </tr>\n",
       "    <tr>\n",
       "      <th>基礎機率</th>\n",
       "      <td>4</td>\n",
       "      <td>64.25</td>\n",
       "    </tr>\n",
       "    <tr>\n",
       "      <th>多項式</th>\n",
       "      <td>4</td>\n",
       "      <td>64.00</td>\n",
       "    </tr>\n",
       "    <tr>\n",
       "      <th>幾何圖形與尺規作圖</th>\n",
       "      <td>4</td>\n",
       "      <td>54.00</td>\n",
       "    </tr>\n",
       "    <tr>\n",
       "      <th>數列與級數</th>\n",
       "      <td>4</td>\n",
       "      <td>48.75</td>\n",
       "    </tr>\n",
       "    <tr>\n",
       "      <th>基礎統計</th>\n",
       "      <td>4</td>\n",
       "      <td>55.25</td>\n",
       "    </tr>\n",
       "    <tr>\n",
       "      <th>數的四則運算</th>\n",
       "      <td>4</td>\n",
       "      <td>78.25</td>\n",
       "    </tr>\n",
       "    <tr>\n",
       "      <th>二次函數</th>\n",
       "      <td>4</td>\n",
       "      <td>39.75</td>\n",
       "    </tr>\n",
       "    <tr>\n",
       "      <th>線對稱圖形</th>\n",
       "      <td>4</td>\n",
       "      <td>58.50</td>\n",
       "    </tr>\n",
       "    <tr>\n",
       "      <th>立體圖形</th>\n",
       "      <td>3</td>\n",
       "      <td>47.67</td>\n",
       "    </tr>\n",
       "    <tr>\n",
       "      <th>一元二次方程式</th>\n",
       "      <td>3</td>\n",
       "      <td>56.33</td>\n",
       "    </tr>\n",
       "    <tr>\n",
       "      <th>平面坐標系</th>\n",
       "      <td>3</td>\n",
       "      <td>59.67</td>\n",
       "    </tr>\n",
       "    <tr>\n",
       "      <th>平行與四邊形</th>\n",
       "      <td>3</td>\n",
       "      <td>53.67</td>\n",
       "    </tr>\n",
       "    <tr>\n",
       "      <th>不等式(一元一次)</th>\n",
       "      <td>3</td>\n",
       "      <td>58.00</td>\n",
       "    </tr>\n",
       "    <tr>\n",
       "      <th>數線與絕對值</th>\n",
       "      <td>2</td>\n",
       "      <td>61.50</td>\n",
       "    </tr>\n",
       "    <tr>\n",
       "      <th>乘法公式</th>\n",
       "      <td>2</td>\n",
       "      <td>64.00</td>\n",
       "    </tr>\n",
       "    <tr>\n",
       "      <th>線性函數</th>\n",
       "      <td>2</td>\n",
       "      <td>49.50</td>\n",
       "    </tr>\n",
       "    <tr>\n",
       "      <th>指數、科學記號</th>\n",
       "      <td>1</td>\n",
       "      <td>49.00</td>\n",
       "    </tr>\n",
       "    <tr>\n",
       "      <th>因式分解</th>\n",
       "      <td>1</td>\n",
       "      <td>55.00</td>\n",
       "    </tr>\n",
       "  </tbody>\n",
       "</table>\n",
       "</div>"
      ],
      "text/plain": [
       "           來源     P\n",
       "章節（短）              \n",
       "幾何證明與三心     9 41.89\n",
       "圓           7 56.43\n",
       "根式          6 65.33\n",
       "二元一次聯立方程式   6 65.67\n",
       "相似形         5 44.60\n",
       "因數與倍數       5 49.60\n",
       "三角形的基本性質    5 42.00\n",
       "比與比例        5 40.00\n",
       "基礎機率        4 64.25\n",
       "多項式         4 64.00\n",
       "幾何圖形與尺規作圖   4 54.00\n",
       "數列與級數       4 48.75\n",
       "基礎統計        4 55.25\n",
       "數的四則運算      4 78.25\n",
       "二次函數        4 39.75\n",
       "線對稱圖形       4 58.50\n",
       "立體圖形        3 47.67\n",
       "一元二次方程式     3 56.33\n",
       "平面坐標系       3 59.67\n",
       "平行與四邊形      3 53.67\n",
       "不等式(一元一次)   3 58.00\n",
       "數線與絕對值      2 61.50\n",
       "乘法公式        2 64.00\n",
       "線性函數        2 49.50\n",
       "指數、科學記號     1 49.00\n",
       "因式分解        1 55.00"
      ]
     },
     "execution_count": 60,
     "metadata": {},
     "output_type": "execute_result"
    }
   ],
   "source": [
    "exambyChapter = exam.groupby(\"章節（短）\")\n",
    "exambyChapter = exambyChapter.agg({\"來源\":\"count\",\"P\":\"mean\"})\n",
    "exambyChapter.sort_values(by=\"來源\",ascending=False)"
   ]
  },
  {
   "cell_type": "code",
   "execution_count": 62,
   "metadata": {
    "collapsed": false
   },
   "outputs": [
    {
     "data": {
      "text/html": [
       "<div>\n",
       "<table border=\"1\" class=\"dataframe\">\n",
       "  <thead>\n",
       "    <tr style=\"text-align: right;\">\n",
       "      <th></th>\n",
       "      <th>來源</th>\n",
       "      <th>P</th>\n",
       "    </tr>\n",
       "    <tr>\n",
       "      <th>章節（短）</th>\n",
       "      <th></th>\n",
       "      <th></th>\n",
       "    </tr>\n",
       "  </thead>\n",
       "  <tbody>\n",
       "    <tr>\n",
       "      <th>數的四則運算</th>\n",
       "      <td>4</td>\n",
       "      <td>78.25</td>\n",
       "    </tr>\n",
       "    <tr>\n",
       "      <th>二元一次聯立方程式</th>\n",
       "      <td>6</td>\n",
       "      <td>65.67</td>\n",
       "    </tr>\n",
       "    <tr>\n",
       "      <th>根式</th>\n",
       "      <td>6</td>\n",
       "      <td>65.33</td>\n",
       "    </tr>\n",
       "    <tr>\n",
       "      <th>基礎機率</th>\n",
       "      <td>4</td>\n",
       "      <td>64.25</td>\n",
       "    </tr>\n",
       "    <tr>\n",
       "      <th>多項式</th>\n",
       "      <td>4</td>\n",
       "      <td>64.00</td>\n",
       "    </tr>\n",
       "    <tr>\n",
       "      <th>乘法公式</th>\n",
       "      <td>2</td>\n",
       "      <td>64.00</td>\n",
       "    </tr>\n",
       "    <tr>\n",
       "      <th>數線與絕對值</th>\n",
       "      <td>2</td>\n",
       "      <td>61.50</td>\n",
       "    </tr>\n",
       "    <tr>\n",
       "      <th>平面坐標系</th>\n",
       "      <td>3</td>\n",
       "      <td>59.67</td>\n",
       "    </tr>\n",
       "    <tr>\n",
       "      <th>線對稱圖形</th>\n",
       "      <td>4</td>\n",
       "      <td>58.50</td>\n",
       "    </tr>\n",
       "    <tr>\n",
       "      <th>不等式(一元一次)</th>\n",
       "      <td>3</td>\n",
       "      <td>58.00</td>\n",
       "    </tr>\n",
       "    <tr>\n",
       "      <th>圓</th>\n",
       "      <td>7</td>\n",
       "      <td>56.43</td>\n",
       "    </tr>\n",
       "    <tr>\n",
       "      <th>一元二次方程式</th>\n",
       "      <td>3</td>\n",
       "      <td>56.33</td>\n",
       "    </tr>\n",
       "    <tr>\n",
       "      <th>基礎統計</th>\n",
       "      <td>4</td>\n",
       "      <td>55.25</td>\n",
       "    </tr>\n",
       "    <tr>\n",
       "      <th>因式分解</th>\n",
       "      <td>1</td>\n",
       "      <td>55.00</td>\n",
       "    </tr>\n",
       "    <tr>\n",
       "      <th>幾何圖形與尺規作圖</th>\n",
       "      <td>4</td>\n",
       "      <td>54.00</td>\n",
       "    </tr>\n",
       "    <tr>\n",
       "      <th>平行與四邊形</th>\n",
       "      <td>3</td>\n",
       "      <td>53.67</td>\n",
       "    </tr>\n",
       "    <tr>\n",
       "      <th>因數與倍數</th>\n",
       "      <td>5</td>\n",
       "      <td>49.60</td>\n",
       "    </tr>\n",
       "    <tr>\n",
       "      <th>線性函數</th>\n",
       "      <td>2</td>\n",
       "      <td>49.50</td>\n",
       "    </tr>\n",
       "    <tr>\n",
       "      <th>指數、科學記號</th>\n",
       "      <td>1</td>\n",
       "      <td>49.00</td>\n",
       "    </tr>\n",
       "    <tr>\n",
       "      <th>數列與級數</th>\n",
       "      <td>4</td>\n",
       "      <td>48.75</td>\n",
       "    </tr>\n",
       "    <tr>\n",
       "      <th>立體圖形</th>\n",
       "      <td>3</td>\n",
       "      <td>47.67</td>\n",
       "    </tr>\n",
       "    <tr>\n",
       "      <th>相似形</th>\n",
       "      <td>5</td>\n",
       "      <td>44.60</td>\n",
       "    </tr>\n",
       "    <tr>\n",
       "      <th>三角形的基本性質</th>\n",
       "      <td>5</td>\n",
       "      <td>42.00</td>\n",
       "    </tr>\n",
       "    <tr>\n",
       "      <th>幾何證明與三心</th>\n",
       "      <td>9</td>\n",
       "      <td>41.89</td>\n",
       "    </tr>\n",
       "    <tr>\n",
       "      <th>比與比例</th>\n",
       "      <td>5</td>\n",
       "      <td>40.00</td>\n",
       "    </tr>\n",
       "    <tr>\n",
       "      <th>二次函數</th>\n",
       "      <td>4</td>\n",
       "      <td>39.75</td>\n",
       "    </tr>\n",
       "  </tbody>\n",
       "</table>\n",
       "</div>"
      ],
      "text/plain": [
       "           來源     P\n",
       "章節（短）              \n",
       "數的四則運算      4 78.25\n",
       "二元一次聯立方程式   6 65.67\n",
       "根式          6 65.33\n",
       "基礎機率        4 64.25\n",
       "多項式         4 64.00\n",
       "乘法公式        2 64.00\n",
       "數線與絕對值      2 61.50\n",
       "平面坐標系       3 59.67\n",
       "線對稱圖形       4 58.50\n",
       "不等式(一元一次)   3 58.00\n",
       "圓           7 56.43\n",
       "一元二次方程式     3 56.33\n",
       "基礎統計        4 55.25\n",
       "因式分解        1 55.00\n",
       "幾何圖形與尺規作圖   4 54.00\n",
       "平行與四邊形      3 53.67\n",
       "因數與倍數       5 49.60\n",
       "線性函數        2 49.50\n",
       "指數、科學記號     1 49.00\n",
       "數列與級數       4 48.75\n",
       "立體圖形        3 47.67\n",
       "相似形         5 44.60\n",
       "三角形的基本性質    5 42.00\n",
       "幾何證明與三心     9 41.89\n",
       "比與比例        5 40.00\n",
       "二次函數        4 39.75"
      ]
     },
     "execution_count": 62,
     "metadata": {},
     "output_type": "execute_result"
    }
   ],
   "source": [
    "exambyChapter.sort_values(by=\"P\",ascending=False)"
   ]
  },
  {
   "cell_type": "code",
   "execution_count": 82,
   "metadata": {
    "collapsed": false
   },
   "outputs": [
    {
     "data": {
      "text/plain": [
       "<matplotlib.axes._subplots.AxesSubplot at 0x11f435b38>"
      ]
     },
     "execution_count": 82,
     "metadata": {},
     "output_type": "execute_result"
    },
    {
     "data": {
      "image/png": "[encoded data removed]",
      "text/plain": [
       "<matplotlib.figure.Figure at 0x11f44b6a0>"
      ]
     },
     "metadata": {},
     "output_type": "display_data"
    }
   ],
   "source": [
    "plt.figure(figsize=(14,4))\n",
    "font = {'size':24}\n",
    "matplotlib.rc('font',**font)\n",
    "sns.stripplot(y=\"大主題\",x=\"P\",data=exam,hue=\"年份\")"
   ]
  }
 ],
 "metadata": {
  "kernelspec": {
   "display_name": "Python 3",
   "language": "python",
   "name": "python3"
  },
  "language_info": {
   "codemirror_mode": {
    "name": "ipython",
    "version": 3
   },
   "file_extension": ".py",
   "mimetype": "text/x-python",
   "name": "python",
   "nbconvert_exporter": "python",
   "pygments_lexer": "ipython3",
   "version": "3.6.0"
  }
 },
 "nbformat": 4,
 "nbformat_minor": 2
}
