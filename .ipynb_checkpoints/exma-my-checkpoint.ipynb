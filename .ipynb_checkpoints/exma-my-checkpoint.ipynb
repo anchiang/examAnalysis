{
 "cells": [
  {
   "cell_type": "markdown",
   "metadata": {},
   "source": [
    "1-1. 載入所需的套件 pandas, matplotlib, numpy, "
   ]
  },
  {
   "cell_type": "code",
   "execution_count": 40,
   "metadata": {
    "collapsed": false
   },
   "outputs": [],
   "source": [
    "import pandas as pd\n",
    "import numpy as np\n",
    "import matplotlib.pyplot as plt\n",
    "import matplotlib\n",
    "matplotlib.rcParams['font.sans-serif'] = 'HanWangHeiHeavy' # 設定字型檔讓 matplotlib 使用\n",
    "import collections\n",
    "import seaborn as sns\n",
    "%matplotlib inline"
   ]
  },
  {
   "cell_type": "markdown",
   "metadata": {},
   "source": [
    "1-2. 載入資料學測資料檔 exam_my.csv 存為變數 exam"
   ]
  },
  {
   "cell_type": "code",
   "execution_count": 42,
   "metadata": {
    "collapsed": false,
    "scrolled": true
   },
   "outputs": [
    {
     "data": {
      "text/html": [
       "<div>\n",
       "<table border=\"1\" class=\"dataframe\">\n",
       "  <thead>\n",
       "    <tr style=\"text-align: right;\">\n",
       "      <th></th>\n",
       "      <th>QID</th>\n",
       "      <th>代號</th>\n",
       "      <th>來源</th>\n",
       "      <th>類別</th>\n",
       "      <th>年份</th>\n",
       "      <th>題型</th>\n",
       "      <th>題號</th>\n",
       "      <th>題目簡述</th>\n",
       "      <th>答案</th>\n",
       "      <th>章節</th>\n",
       "      <th>...</th>\n",
       "      <th>HA</th>\n",
       "      <th>HB</th>\n",
       "      <th>HC</th>\n",
       "      <th>HD</th>\n",
       "      <th>HE</th>\n",
       "      <th>LA</th>\n",
       "      <th>LB</th>\n",
       "      <th>LC</th>\n",
       "      <th>LD</th>\n",
       "      <th>LE</th>\n",
       "    </tr>\n",
       "  </thead>\n",
       "  <tbody>\n",
       "    <tr>\n",
       "      <th>0</th>\n",
       "      <td>NaN</td>\n",
       "      <td>sdczk-my091-1-01ax</td>\n",
       "      <td>指考數乙091</td>\n",
       "      <td>指考數乙</td>\n",
       "      <td>91</td>\n",
       "      <td>單選</td>\n",
       "      <td>1</td>\n",
       "      <td>四次方程勘根</td>\n",
       "      <td>(D)</td>\n",
       "      <td>msadx 多項式</td>\n",
       "      <td>...</td>\n",
       "      <td>0.0</td>\n",
       "      <td>1.0</td>\n",
       "      <td>2.0</td>\n",
       "      <td>94.0</td>\n",
       "      <td>1.0</td>\n",
       "      <td>5.0</td>\n",
       "      <td>10.0</td>\n",
       "      <td>19.0</td>\n",
       "      <td>28.0</td>\n",
       "      <td>5.0</td>\n",
       "    </tr>\n",
       "    <tr>\n",
       "      <th>1</th>\n",
       "      <td>NaN</td>\n",
       "      <td>sdczk-my091-1-02ax</td>\n",
       "      <td>指考數乙091</td>\n",
       "      <td>指考數乙</td>\n",
       "      <td>91</td>\n",
       "      <td>單選</td>\n",
       "      <td>2</td>\n",
       "      <td>所得滿意度調查</td>\n",
       "      <td>(C)</td>\n",
       "      <td>msckx 數學綜合概念</td>\n",
       "      <td>...</td>\n",
       "      <td>1.0</td>\n",
       "      <td>0.0</td>\n",
       "      <td>96.0</td>\n",
       "      <td>1.0</td>\n",
       "      <td>1.0</td>\n",
       "      <td>4.0</td>\n",
       "      <td>4.0</td>\n",
       "      <td>68.0</td>\n",
       "      <td>12.0</td>\n",
       "      <td>7.0</td>\n",
       "    </tr>\n",
       "  </tbody>\n",
       "</table>\n",
       "<p>2 rows × 41 columns</p>\n",
       "</div>"
      ],
      "text/plain": [
       "   QID                  代號       來源    類別  年份  題型 題號     題目簡述   答案  \\\n",
       "0  NaN  sdczk-my091-1-01ax  指考數乙091  指考數乙  91  單選  1   四次方程勘根  (D)   \n",
       "1  NaN  sdczk-my091-1-02ax  指考數乙091  指考數乙  91  單選  2  所得滿意度調查  (C)   \n",
       "\n",
       "             章節 ...    HA   HB    HC    HD   HE   LA    LB    LC    LD   LE  \n",
       "0     msadx 多項式 ...   0.0  1.0   2.0  94.0  1.0  5.0  10.0  19.0  28.0  5.0  \n",
       "1  msckx 數學綜合概念 ...   1.0  0.0  96.0   1.0  1.0  4.0   4.0  68.0  12.0  7.0  \n",
       "\n",
       "[2 rows x 41 columns]"
      ]
     },
     "execution_count": 42,
     "metadata": {},
     "output_type": "execute_result"
    }
   ],
   "source": [
    "exam = pd.read_csv('exam_my.csv')\n",
    "exam.head(2)"
   ]
  },
  {
   "cell_type": "markdown",
   "metadata": {},
   "source": [
    "1-3. 刪除 QID 欄，且將代號設為 index"
   ]
  },
  {
   "cell_type": "code",
   "execution_count": 43,
   "metadata": {
    "collapsed": false
   },
   "outputs": [],
   "source": [
    "del exam[\"QID\"]"
   ]
  },
  {
   "cell_type": "code",
   "execution_count": 44,
   "metadata": {
    "collapsed": false
   },
   "outputs": [
    {
     "data": {
      "text/html": [
       "<div>\n",
       "<table border=\"1\" class=\"dataframe\">\n",
       "  <thead>\n",
       "    <tr style=\"text-align: right;\">\n",
       "      <th></th>\n",
       "      <th>來源</th>\n",
       "      <th>類別</th>\n",
       "      <th>年份</th>\n",
       "      <th>題型</th>\n",
       "      <th>題號</th>\n",
       "      <th>題目簡述</th>\n",
       "      <th>答案</th>\n",
       "      <th>章節</th>\n",
       "      <th>章節（短）</th>\n",
       "      <th>P</th>\n",
       "      <th>...</th>\n",
       "      <th>HA</th>\n",
       "      <th>HB</th>\n",
       "      <th>HC</th>\n",
       "      <th>HD</th>\n",
       "      <th>HE</th>\n",
       "      <th>LA</th>\n",
       "      <th>LB</th>\n",
       "      <th>LC</th>\n",
       "      <th>LD</th>\n",
       "      <th>LE</th>\n",
       "    </tr>\n",
       "    <tr>\n",
       "      <th>代號</th>\n",
       "      <th></th>\n",
       "      <th></th>\n",
       "      <th></th>\n",
       "      <th></th>\n",
       "      <th></th>\n",
       "      <th></th>\n",
       "      <th></th>\n",
       "      <th></th>\n",
       "      <th></th>\n",
       "      <th></th>\n",
       "      <th></th>\n",
       "      <th></th>\n",
       "      <th></th>\n",
       "      <th></th>\n",
       "      <th></th>\n",
       "      <th></th>\n",
       "      <th></th>\n",
       "      <th></th>\n",
       "      <th></th>\n",
       "      <th></th>\n",
       "      <th></th>\n",
       "    </tr>\n",
       "  </thead>\n",
       "  <tbody>\n",
       "    <tr>\n",
       "      <th>sdczk-my091-1-01ax</th>\n",
       "      <td>指考數乙091</td>\n",
       "      <td>指考數乙</td>\n",
       "      <td>91</td>\n",
       "      <td>單選</td>\n",
       "      <td>1</td>\n",
       "      <td>四次方程勘根</td>\n",
       "      <td>(D)</td>\n",
       "      <td>msadx 多項式</td>\n",
       "      <td>NaN</td>\n",
       "      <td>65.0</td>\n",
       "      <td>...</td>\n",
       "      <td>0.0</td>\n",
       "      <td>1.0</td>\n",
       "      <td>2.0</td>\n",
       "      <td>94.0</td>\n",
       "      <td>1.0</td>\n",
       "      <td>5.0</td>\n",
       "      <td>10.0</td>\n",
       "      <td>19.0</td>\n",
       "      <td>28.0</td>\n",
       "      <td>5.0</td>\n",
       "    </tr>\n",
       "    <tr>\n",
       "      <th>sdczk-my091-1-02ax</th>\n",
       "      <td>指考數乙091</td>\n",
       "      <td>指考數乙</td>\n",
       "      <td>91</td>\n",
       "      <td>單選</td>\n",
       "      <td>2</td>\n",
       "      <td>所得滿意度調查</td>\n",
       "      <td>(C)</td>\n",
       "      <td>msckx 數學綜合概念</td>\n",
       "      <td>NaN</td>\n",
       "      <td>84.0</td>\n",
       "      <td>...</td>\n",
       "      <td>1.0</td>\n",
       "      <td>0.0</td>\n",
       "      <td>96.0</td>\n",
       "      <td>1.0</td>\n",
       "      <td>1.0</td>\n",
       "      <td>4.0</td>\n",
       "      <td>4.0</td>\n",
       "      <td>68.0</td>\n",
       "      <td>12.0</td>\n",
       "      <td>7.0</td>\n",
       "    </tr>\n",
       "  </tbody>\n",
       "</table>\n",
       "<p>2 rows × 39 columns</p>\n",
       "</div>"
      ],
      "text/plain": [
       "                         來源    類別  年份  題型 題號     題目簡述   答案            章節  \\\n",
       "代號                                                                         \n",
       "sdczk-my091-1-01ax  指考數乙091  指考數乙  91  單選  1   四次方程勘根  (D)     msadx 多項式   \n",
       "sdczk-my091-1-02ax  指考數乙091  指考數乙  91  單選  2  所得滿意度調查  (C)  msckx 數學綜合概念   \n",
       "\n",
       "                   章節（短）     P ...    HA   HB    HC    HD   HE   LA    LB  \\\n",
       "代號                             ...                                          \n",
       "sdczk-my091-1-01ax   NaN  65.0 ...   0.0  1.0   2.0  94.0  1.0  5.0  10.0   \n",
       "sdczk-my091-1-02ax   NaN  84.0 ...   1.0  0.0  96.0   1.0  1.0  4.0   4.0   \n",
       "\n",
       "                      LC    LD   LE  \n",
       "代號                                   \n",
       "sdczk-my091-1-01ax  19.0  28.0  5.0  \n",
       "sdczk-my091-1-02ax  68.0  12.0  7.0  \n",
       "\n",
       "[2 rows x 39 columns]"
      ]
     },
     "execution_count": 44,
     "metadata": {},
     "output_type": "execute_result"
    }
   ],
   "source": [
    "exam = exam.set_index([\"代號\"])\n",
    "exam.head(2)"
   ]
  },
  {
   "cell_type": "markdown",
   "metadata": {},
   "source": [
    "2.1 分別計算 單選, 多選, 填充的數量"
   ]
  },
  {
   "cell_type": "code",
   "execution_count": 45,
   "metadata": {
    "collapsed": false
   },
   "outputs": [
    {
     "data": {
      "text/plain": [
       "<matplotlib.text.Text at 0x12000a780>"
      ]
     },
     "execution_count": 45,
     "metadata": {},
     "output_type": "execute_result"
    },
    {
     "data": {
      "image/png": "[encoded data removed]",
      "text/plain": [
       "<matplotlib.figure.Figure at 0x11ffd2710>"
      ]
     },
     "metadata": {},
     "output_type": "display_data"
    }
   ],
   "source": [
    "exam.head(2)\n",
    "quesType = exam[\"題型\"]\n",
    "quesTypeCounts = quesType.value_counts()\n",
    "quesTypeCounts.head()\n",
    "plt.figure(figsize=(6,6))\n",
    "font = {'size':20}\n",
    "matplotlib.rc('font',**font)\n",
    "plt.pie(quesTypeCounts,labels = quesTypeCounts.index, \n",
    "       autopct=\"%2.0f%%\",shadow=True,startangle=90,\n",
    "        explode=(0.1,0.1,0.1,0.1))\n",
    "plt.title(u\"數乙試題\")"
   ]
  },
  {
   "cell_type": "code",
   "execution_count": 46,
   "metadata": {
    "collapsed": false
   },
   "outputs": [
    {
     "data": {
      "text/html": [
       "<div>\n",
       "<table border=\"1\" class=\"dataframe\">\n",
       "  <thead>\n",
       "    <tr style=\"text-align: right;\">\n",
       "      <th></th>\n",
       "      <th></th>\n",
       "      <th>題數</th>\n",
       "    </tr>\n",
       "    <tr>\n",
       "      <th>來源</th>\n",
       "      <th>題型</th>\n",
       "      <th></th>\n",
       "    </tr>\n",
       "  </thead>\n",
       "  <tbody>\n",
       "    <tr>\n",
       "      <th rowspan=\"3\" valign=\"top\">指考數乙091</th>\n",
       "      <th>單選</th>\n",
       "      <td>2</td>\n",
       "    </tr>\n",
       "    <tr>\n",
       "      <th>填充</th>\n",
       "      <td>6</td>\n",
       "    </tr>\n",
       "    <tr>\n",
       "      <th>非選</th>\n",
       "      <td>3</td>\n",
       "    </tr>\n",
       "    <tr>\n",
       "      <th rowspan=\"3\" valign=\"top\">指考數乙092</th>\n",
       "      <th>單選</th>\n",
       "      <td>4</td>\n",
       "    </tr>\n",
       "    <tr>\n",
       "      <th>填充</th>\n",
       "      <td>8</td>\n",
       "    </tr>\n",
       "    <tr>\n",
       "      <th>多選</th>\n",
       "      <td>4</td>\n",
       "    </tr>\n",
       "  </tbody>\n",
       "</table>\n",
       "</div>"
      ],
      "text/plain": [
       "            題數\n",
       "來源      題型    \n",
       "指考數乙091 單選   2\n",
       "        填充   6\n",
       "        非選   3\n",
       "指考數乙092 單選   4\n",
       "        填充   8\n",
       "        多選   4"
      ]
     },
     "execution_count": 46,
     "metadata": {},
     "output_type": "execute_result"
    }
   ],
   "source": [
    "exambyYearType = exam.groupby([\"來源\",\"題型\"]).count().iloc[:,0:1]\n",
    "exambyYearType.columns.values[0]=\"題數\"\n",
    "exambyYearType.head(6)"
   ]
  },
  {
   "cell_type": "code",
   "execution_count": 47,
   "metadata": {
    "collapsed": false,
    "scrolled": false
   },
   "outputs": [
    {
     "data": {
      "text/html": [
       "<div>\n",
       "<table border=\"1\" class=\"dataframe\">\n",
       "  <thead>\n",
       "    <tr style=\"text-align: right;\">\n",
       "      <th></th>\n",
       "      <th>來源</th>\n",
       "      <th>指考數乙091</th>\n",
       "      <th>指考數乙092</th>\n",
       "      <th>指考數乙093</th>\n",
       "      <th>指考數乙094</th>\n",
       "      <th>指考數乙095</th>\n",
       "      <th>指考數乙096</th>\n",
       "      <th>指考數乙097</th>\n",
       "      <th>指考數乙098</th>\n",
       "      <th>指考數乙099</th>\n",
       "      <th>指考數乙100</th>\n",
       "      <th>指考數乙101</th>\n",
       "      <th>指考數乙102</th>\n",
       "      <th>指考數乙103</th>\n",
       "      <th>指考數乙104</th>\n",
       "      <th>指考數乙105</th>\n",
       "    </tr>\n",
       "    <tr>\n",
       "      <th></th>\n",
       "      <th>題型</th>\n",
       "      <th></th>\n",
       "      <th></th>\n",
       "      <th></th>\n",
       "      <th></th>\n",
       "      <th></th>\n",
       "      <th></th>\n",
       "      <th></th>\n",
       "      <th></th>\n",
       "      <th></th>\n",
       "      <th></th>\n",
       "      <th></th>\n",
       "      <th></th>\n",
       "      <th></th>\n",
       "      <th></th>\n",
       "      <th></th>\n",
       "    </tr>\n",
       "  </thead>\n",
       "  <tbody>\n",
       "    <tr>\n",
       "      <th rowspan=\"4\" valign=\"top\">題數</th>\n",
       "      <th>單選</th>\n",
       "      <td>2.0</td>\n",
       "      <td>4.0</td>\n",
       "      <td>4.0</td>\n",
       "      <td>2.0</td>\n",
       "      <td>3.0</td>\n",
       "      <td>3.0</td>\n",
       "      <td>3.0</td>\n",
       "      <td>2.0</td>\n",
       "      <td>2.0</td>\n",
       "      <td>2.0</td>\n",
       "      <td>3.0</td>\n",
       "      <td>2.0</td>\n",
       "      <td>2.0</td>\n",
       "      <td>2.0</td>\n",
       "      <td>3.0</td>\n",
       "    </tr>\n",
       "    <tr>\n",
       "      <th>填充</th>\n",
       "      <td>6.0</td>\n",
       "      <td>8.0</td>\n",
       "      <td>5.0</td>\n",
       "      <td>5.0</td>\n",
       "      <td>3.0</td>\n",
       "      <td>3.0</td>\n",
       "      <td>3.0</td>\n",
       "      <td>4.0</td>\n",
       "      <td>6.0</td>\n",
       "      <td>4.0</td>\n",
       "      <td>3.0</td>\n",
       "      <td>3.0</td>\n",
       "      <td>3.0</td>\n",
       "      <td>3.0</td>\n",
       "      <td>3.0</td>\n",
       "    </tr>\n",
       "    <tr>\n",
       "      <th>多選</th>\n",
       "      <td>NaN</td>\n",
       "      <td>4.0</td>\n",
       "      <td>2.0</td>\n",
       "      <td>2.0</td>\n",
       "      <td>4.0</td>\n",
       "      <td>4.0</td>\n",
       "      <td>4.0</td>\n",
       "      <td>4.0</td>\n",
       "      <td>2.0</td>\n",
       "      <td>4.0</td>\n",
       "      <td>4.0</td>\n",
       "      <td>5.0</td>\n",
       "      <td>5.0</td>\n",
       "      <td>5.0</td>\n",
       "      <td>5.0</td>\n",
       "    </tr>\n",
       "    <tr>\n",
       "      <th>非選</th>\n",
       "      <td>3.0</td>\n",
       "      <td>NaN</td>\n",
       "      <td>2.0</td>\n",
       "      <td>2.0</td>\n",
       "      <td>2.0</td>\n",
       "      <td>2.0</td>\n",
       "      <td>2.0</td>\n",
       "      <td>2.0</td>\n",
       "      <td>2.0</td>\n",
       "      <td>2.0</td>\n",
       "      <td>2.0</td>\n",
       "      <td>2.0</td>\n",
       "      <td>2.0</td>\n",
       "      <td>2.0</td>\n",
       "      <td>2.0</td>\n",
       "    </tr>\n",
       "  </tbody>\n",
       "</table>\n",
       "</div>"
      ],
      "text/plain": [
       "來源     指考數乙091  指考數乙092  指考數乙093  指考數乙094  指考數乙095  指考數乙096  指考數乙097  指考數乙098  \\\n",
       "   題型                                                                           \n",
       "題數 單選      2.0      4.0      4.0      2.0      3.0      3.0      3.0      2.0   \n",
       "   填充      6.0      8.0      5.0      5.0      3.0      3.0      3.0      4.0   \n",
       "   多選      NaN      4.0      2.0      2.0      4.0      4.0      4.0      4.0   \n",
       "   非選      3.0      NaN      2.0      2.0      2.0      2.0      2.0      2.0   \n",
       "\n",
       "來源     指考數乙099  指考數乙100  指考數乙101  指考數乙102  指考數乙103  指考數乙104  指考數乙105  \n",
       "   題型                                                                 \n",
       "題數 單選      2.0      2.0      3.0      2.0      2.0      2.0      3.0  \n",
       "   填充      6.0      4.0      3.0      3.0      3.0      3.0      3.0  \n",
       "   多選      2.0      4.0      4.0      5.0      5.0      5.0      5.0  \n",
       "   非選      2.0      2.0      2.0      2.0      2.0      2.0      2.0  "
      ]
     },
     "execution_count": 47,
     "metadata": {},
     "output_type": "execute_result"
    }
   ],
   "source": [
    "exambyYearType.unstack().T"
   ]
  },
  {
   "cell_type": "code",
   "execution_count": 48,
   "metadata": {
    "collapsed": false
   },
   "outputs": [
    {
     "data": {
      "text/html": [
       "<div>\n",
       "<table border=\"1\" class=\"dataframe\">\n",
       "  <thead>\n",
       "    <tr style=\"text-align: right;\">\n",
       "      <th></th>\n",
       "      <th>P</th>\n",
       "      <th>Ph</th>\n",
       "      <th>Pm</th>\n",
       "      <th>Pl</th>\n",
       "      <th>P90</th>\n",
       "      <th>P70</th>\n",
       "      <th>P50</th>\n",
       "      <th>P30</th>\n",
       "      <th>P10</th>\n",
       "      <th>T</th>\n",
       "      <th>D</th>\n",
       "    </tr>\n",
       "    <tr>\n",
       "      <th>題型</th>\n",
       "      <th></th>\n",
       "      <th></th>\n",
       "      <th></th>\n",
       "      <th></th>\n",
       "      <th></th>\n",
       "      <th></th>\n",
       "      <th></th>\n",
       "      <th></th>\n",
       "      <th></th>\n",
       "      <th></th>\n",
       "      <th></th>\n",
       "    </tr>\n",
       "  </thead>\n",
       "  <tbody>\n",
       "    <tr>\n",
       "      <th>單選</th>\n",
       "      <td>59.90</td>\n",
       "      <td>80.92</td>\n",
       "      <td>61.95</td>\n",
       "      <td>36.82</td>\n",
       "      <td>85.62</td>\n",
       "      <td>72.05</td>\n",
       "      <td>62.13</td>\n",
       "      <td>50.41</td>\n",
       "      <td>29.51</td>\n",
       "      <td>NaN</td>\n",
       "      <td>44.10</td>\n",
       "    </tr>\n",
       "    <tr>\n",
       "      <th>填充</th>\n",
       "      <td>44.55</td>\n",
       "      <td>74.32</td>\n",
       "      <td>44.05</td>\n",
       "      <td>15.27</td>\n",
       "      <td>81.37</td>\n",
       "      <td>60.44</td>\n",
       "      <td>44.11</td>\n",
       "      <td>27.27</td>\n",
       "      <td>9.34</td>\n",
       "      <td>NaN</td>\n",
       "      <td>59.05</td>\n",
       "    </tr>\n",
       "    <tr>\n",
       "      <th>多選</th>\n",
       "      <td>50.89</td>\n",
       "      <td>75.22</td>\n",
       "      <td>51.30</td>\n",
       "      <td>26.15</td>\n",
       "      <td>80.65</td>\n",
       "      <td>64.61</td>\n",
       "      <td>51.22</td>\n",
       "      <td>37.89</td>\n",
       "      <td>19.87</td>\n",
       "      <td>35.96</td>\n",
       "      <td>49.07</td>\n",
       "    </tr>\n",
       "    <tr>\n",
       "      <th>非選</th>\n",
       "      <td>NaN</td>\n",
       "      <td>NaN</td>\n",
       "      <td>NaN</td>\n",
       "      <td>NaN</td>\n",
       "      <td>NaN</td>\n",
       "      <td>NaN</td>\n",
       "      <td>NaN</td>\n",
       "      <td>NaN</td>\n",
       "      <td>NaN</td>\n",
       "      <td>NaN</td>\n",
       "      <td>NaN</td>\n",
       "    </tr>\n",
       "  </tbody>\n",
       "</table>\n",
       "</div>"
      ],
      "text/plain": [
       "        P     Ph     Pm     Pl    P90    P70    P50    P30    P10      T  \\\n",
       "題型                                                                         \n",
       "單選  59.90  80.92  61.95  36.82  85.62  72.05  62.13  50.41  29.51    NaN   \n",
       "填充  44.55  74.32  44.05  15.27  81.37  60.44  44.11  27.27   9.34    NaN   \n",
       "多選  50.89  75.22  51.30  26.15  80.65  64.61  51.22  37.89  19.87  35.96   \n",
       "非選    NaN    NaN    NaN    NaN    NaN    NaN    NaN    NaN    NaN    NaN   \n",
       "\n",
       "        D  \n",
       "題型         \n",
       "單選  44.10  \n",
       "填充  59.05  \n",
       "多選  49.07  \n",
       "非選    NaN  "
      ]
     },
     "execution_count": 48,
     "metadata": {},
     "output_type": "execute_result"
    }
   ],
   "source": [
    "ansRatebyType = exam.groupby(\"題型\").mean().round(2)\n",
    "ansRatebyType.iloc[:,1:12]"
   ]
  },
  {
   "cell_type": "code",
   "execution_count": 49,
   "metadata": {
    "collapsed": false
   },
   "outputs": [
    {
     "data": {
      "text/plain": [
       "<matplotlib.axes._subplots.AxesSubplot at 0x1201c4c88>"
      ]
     },
     "execution_count": 49,
     "metadata": {},
     "output_type": "execute_result"
    },
    {
     "data": {
      "image/png": "[encoded data removed]",
      "text/plain": [
       "<matplotlib.figure.Figure at 0x11fbed908>"
      ]
     },
     "metadata": {},
     "output_type": "display_data"
    },
    {
     "data": {
      "image/png": "[encoded data removed]",
      "text/plain": [
       "<matplotlib.figure.Figure at 0x11fc152b0>"
      ]
     },
     "metadata": {},
     "output_type": "display_data"
    }
   ],
   "source": [
    "ansRatebyTypeGroup5 =  ansRatebyType.iloc[:,6:11]\n",
    "ansRatebyTypeGroup5\n",
    "ansRatebyTypeGroup5.plot.bar(title=\"不同得分群\")\n",
    "ansRatebyTypeGroup5.T.plot.bar(title=\"不同題型\")"
   ]
  },
  {
   "cell_type": "code",
   "execution_count": 50,
   "metadata": {
    "collapsed": false
   },
   "outputs": [
    {
     "data": {
      "text/plain": [
       "<matplotlib.axes._subplots.AxesSubplot at 0x120166748>"
      ]
     },
     "execution_count": 50,
     "metadata": {},
     "output_type": "execute_result"
    },
    {
     "data": {
      "image/png": "[encoded data removed]",
      "text/plain": [
       "<matplotlib.figure.Figure at 0x11ffd22b0>"
      ]
     },
     "metadata": {},
     "output_type": "display_data"
    }
   ],
   "source": [
    "plt.figure(figsize=(16,6))\n",
    "sns.stripplot(x=\"年份\",y=\"P\",data=exam,hue=\"題型\",jitter=True)"
   ]
  },
  {
   "cell_type": "code",
   "execution_count": 51,
   "metadata": {
    "collapsed": false
   },
   "outputs": [
    {
     "data": {
      "text/plain": [
       "<seaborn.axisgrid.JointGrid at 0x1201a73c8>"
      ]
     },
     "execution_count": 51,
     "metadata": {},
     "output_type": "execute_result"
    },
    {
     "data": {
      "image/png": "[encoded data removed]",
      "text/plain": [
       "<matplotlib.figure.Figure at 0x1201a7b70>"
      ]
     },
     "metadata": {},
     "output_type": "display_data"
    }
   ],
   "source": [
    "sns.jointplot(x=\"P\",y=\"P90\",data=exam)"
   ]
  },
  {
   "cell_type": "code",
   "execution_count": 52,
   "metadata": {
    "collapsed": false,
    "scrolled": true
   },
   "outputs": [
    {
     "data": {
      "text/plain": [
       "<seaborn.axisgrid.FacetGrid at 0x11fc2b390>"
      ]
     },
     "execution_count": 52,
     "metadata": {},
     "output_type": "execute_result"
    },
    {
     "data": {
      "image/png": "[encoded data removed]",
      "text/plain": [
       "<matplotlib.figure.Figure at 0x12033fcf8>"
      ]
     },
     "metadata": {},
     "output_type": "display_data"
    }
   ],
   "source": [
    "g = sns.FacetGrid(exam,col=\"題型\",hue=\"年份\")\n",
    "g.map(plt.scatter,\"P\",\"P90\")"
   ]
  },
  {
   "cell_type": "markdown",
   "metadata": {},
   "source": [
    "將 單選, 多選, 填充 分成三個表 singCho, multCho, textBox"
   ]
  },
  {
   "cell_type": "code",
   "execution_count": 71,
   "metadata": {
    "collapsed": true
   },
   "outputs": [],
   "source": [
    "singCho = exam[exam[\"題型\"].isin(['單選'])]\n",
    "multCho = exam[exam[\"題型\"] =='多選']\n",
    "textBox = exam[exam.題型.isin(['填充'])]\n",
    "exnonCho= exam[exam[\"題型\"] !='非選']"
   ]
  },
  {
   "cell_type": "code",
   "execution_count": 55,
   "metadata": {
    "collapsed": false
   },
   "outputs": [
    {
     "data": {
      "image/png": "[encoded data removed]",
      "text/plain": [
       "<matplotlib.figure.Figure at 0x11e11cbe0>"
      ]
     },
     "metadata": {},
     "output_type": "display_data"
    }
   ],
   "source": [
    "singChoAns = singCho[[\"答案\",\"P\"]].groupby(by = \"答案\").count()\n",
    "singChoAns.columns.values[0]=\"題數\"\n",
    "singChoAns[\"百分比\"]= singChoAns[\"題數\"]/len(singCho)\n",
    "plt.figure(figsize=(16,6))\n",
    "ax1 = plt.subplot(121,aspect=\"equal\")\n",
    "singChoAns.plot(kind='pie',y=\"題數\",ax=ax1, autopct=\"%2d%%\",fontsize = 20,legend=False)\n",
    "ax2 = plt.subplot(122)\n",
    "plt.axis(\"off\")\n",
    "from pandas.tools.plotting import table\n",
    "tbl = table(ax2,singChoAns,loc=\"center\")\n",
    "tbl.auto_set_font_size(False)\n",
    "tbl.set_fontsize(16)\n",
    "plt.show()"
   ]
  },
  {
   "cell_type": "code",
   "execution_count": 56,
   "metadata": {
    "collapsed": false
   },
   "outputs": [
    {
     "data": {
      "text/html": [
       "<div>\n",
       "<table border=\"1\" class=\"dataframe\">\n",
       "  <thead>\n",
       "    <tr style=\"text-align: right;\">\n",
       "      <th></th>\n",
       "      <th>年份</th>\n",
       "      <th>P</th>\n",
       "      <th>Ph</th>\n",
       "      <th>Pm</th>\n",
       "      <th>Pl</th>\n",
       "      <th>P90</th>\n",
       "      <th>P70</th>\n",
       "      <th>P50</th>\n",
       "      <th>P30</th>\n",
       "      <th>P10</th>\n",
       "      <th>...</th>\n",
       "      <th>HA</th>\n",
       "      <th>HB</th>\n",
       "      <th>HC</th>\n",
       "      <th>HD</th>\n",
       "      <th>HE</th>\n",
       "      <th>LA</th>\n",
       "      <th>LB</th>\n",
       "      <th>LC</th>\n",
       "      <th>LD</th>\n",
       "      <th>LE</th>\n",
       "    </tr>\n",
       "  </thead>\n",
       "  <tbody>\n",
       "    <tr>\n",
       "      <th>count</th>\n",
       "      <td>39.000000</td>\n",
       "      <td>39.000000</td>\n",
       "      <td>39.000000</td>\n",
       "      <td>39.000000</td>\n",
       "      <td>39.000000</td>\n",
       "      <td>39.000000</td>\n",
       "      <td>39.000000</td>\n",
       "      <td>39.000000</td>\n",
       "      <td>39.000000</td>\n",
       "      <td>39.000000</td>\n",
       "      <td>...</td>\n",
       "      <td>39.000000</td>\n",
       "      <td>39.000000</td>\n",
       "      <td>39.000000</td>\n",
       "      <td>39.000000</td>\n",
       "      <td>39.000000</td>\n",
       "      <td>39.000000</td>\n",
       "      <td>39.000000</td>\n",
       "      <td>39.000000</td>\n",
       "      <td>39.000000</td>\n",
       "      <td>39.000000</td>\n",
       "    </tr>\n",
       "    <tr>\n",
       "      <th>mean</th>\n",
       "      <td>97.538462</td>\n",
       "      <td>59.897436</td>\n",
       "      <td>80.923077</td>\n",
       "      <td>61.948718</td>\n",
       "      <td>36.820513</td>\n",
       "      <td>85.615385</td>\n",
       "      <td>72.051282</td>\n",
       "      <td>62.128205</td>\n",
       "      <td>50.410256</td>\n",
       "      <td>29.512821</td>\n",
       "      <td>...</td>\n",
       "      <td>13.538462</td>\n",
       "      <td>21.487179</td>\n",
       "      <td>18.948718</td>\n",
       "      <td>27.128205</td>\n",
       "      <td>14.205128</td>\n",
       "      <td>10.923077</td>\n",
       "      <td>17.948718</td>\n",
       "      <td>23.487179</td>\n",
       "      <td>21.000000</td>\n",
       "      <td>13.666667</td>\n",
       "    </tr>\n",
       "    <tr>\n",
       "      <th>std</th>\n",
       "      <td>4.429840</td>\n",
       "      <td>21.320604</td>\n",
       "      <td>19.728932</td>\n",
       "      <td>26.108023</td>\n",
       "      <td>21.403236</td>\n",
       "      <td>17.363930</td>\n",
       "      <td>24.525978</td>\n",
       "      <td>26.243976</td>\n",
       "      <td>25.102650</td>\n",
       "      <td>19.488015</td>\n",
       "      <td>...</td>\n",
       "      <td>28.739159</td>\n",
       "      <td>35.023204</td>\n",
       "      <td>32.600411</td>\n",
       "      <td>37.132890</td>\n",
       "      <td>29.643655</td>\n",
       "      <td>10.032538</td>\n",
       "      <td>15.423749</td>\n",
       "      <td>19.458284</td>\n",
       "      <td>16.288517</td>\n",
       "      <td>15.239031</td>\n",
       "    </tr>\n",
       "    <tr>\n",
       "      <th>min</th>\n",
       "      <td>91.000000</td>\n",
       "      <td>18.000000</td>\n",
       "      <td>28.000000</td>\n",
       "      <td>12.000000</td>\n",
       "      <td>2.000000</td>\n",
       "      <td>32.000000</td>\n",
       "      <td>20.000000</td>\n",
       "      <td>13.000000</td>\n",
       "      <td>5.000000</td>\n",
       "      <td>2.000000</td>\n",
       "      <td>...</td>\n",
       "      <td>0.000000</td>\n",
       "      <td>0.000000</td>\n",
       "      <td>0.000000</td>\n",
       "      <td>0.000000</td>\n",
       "      <td>0.000000</td>\n",
       "      <td>1.000000</td>\n",
       "      <td>3.000000</td>\n",
       "      <td>4.000000</td>\n",
       "      <td>4.000000</td>\n",
       "      <td>2.000000</td>\n",
       "    </tr>\n",
       "    <tr>\n",
       "      <th>25%</th>\n",
       "      <td>93.500000</td>\n",
       "      <td>45.000000</td>\n",
       "      <td>70.000000</td>\n",
       "      <td>45.000000</td>\n",
       "      <td>22.500000</td>\n",
       "      <td>76.500000</td>\n",
       "      <td>56.000000</td>\n",
       "      <td>43.500000</td>\n",
       "      <td>32.500000</td>\n",
       "      <td>17.500000</td>\n",
       "      <td>...</td>\n",
       "      <td>0.500000</td>\n",
       "      <td>1.000000</td>\n",
       "      <td>1.500000</td>\n",
       "      <td>1.000000</td>\n",
       "      <td>1.000000</td>\n",
       "      <td>4.000000</td>\n",
       "      <td>8.000000</td>\n",
       "      <td>13.000000</td>\n",
       "      <td>11.000000</td>\n",
       "      <td>5.000000</td>\n",
       "    </tr>\n",
       "    <tr>\n",
       "      <th>50%</th>\n",
       "      <td>97.000000</td>\n",
       "      <td>62.000000</td>\n",
       "      <td>89.000000</td>\n",
       "      <td>65.000000</td>\n",
       "      <td>34.000000</td>\n",
       "      <td>93.000000</td>\n",
       "      <td>82.000000</td>\n",
       "      <td>67.000000</td>\n",
       "      <td>50.000000</td>\n",
       "      <td>22.000000</td>\n",
       "      <td>...</td>\n",
       "      <td>1.000000</td>\n",
       "      <td>2.000000</td>\n",
       "      <td>4.000000</td>\n",
       "      <td>4.000000</td>\n",
       "      <td>2.000000</td>\n",
       "      <td>8.000000</td>\n",
       "      <td>11.000000</td>\n",
       "      <td>18.000000</td>\n",
       "      <td>16.000000</td>\n",
       "      <td>7.000000</td>\n",
       "    </tr>\n",
       "    <tr>\n",
       "      <th>75%</th>\n",
       "      <td>101.000000</td>\n",
       "      <td>78.000000</td>\n",
       "      <td>95.500000</td>\n",
       "      <td>83.000000</td>\n",
       "      <td>53.000000</td>\n",
       "      <td>97.500000</td>\n",
       "      <td>92.000000</td>\n",
       "      <td>83.500000</td>\n",
       "      <td>74.000000</td>\n",
       "      <td>43.500000</td>\n",
       "      <td>...</td>\n",
       "      <td>4.000000</td>\n",
       "      <td>19.500000</td>\n",
       "      <td>11.500000</td>\n",
       "      <td>65.000000</td>\n",
       "      <td>4.500000</td>\n",
       "      <td>12.000000</td>\n",
       "      <td>24.500000</td>\n",
       "      <td>23.000000</td>\n",
       "      <td>26.500000</td>\n",
       "      <td>17.500000</td>\n",
       "    </tr>\n",
       "    <tr>\n",
       "      <th>max</th>\n",
       "      <td>105.000000</td>\n",
       "      <td>92.000000</td>\n",
       "      <td>99.000000</td>\n",
       "      <td>97.000000</td>\n",
       "      <td>81.000000</td>\n",
       "      <td>100.000000</td>\n",
       "      <td>99.000000</td>\n",
       "      <td>97.000000</td>\n",
       "      <td>95.000000</td>\n",
       "      <td>75.000000</td>\n",
       "      <td>...</td>\n",
       "      <td>97.000000</td>\n",
       "      <td>99.000000</td>\n",
       "      <td>99.000000</td>\n",
       "      <td>98.000000</td>\n",
       "      <td>98.000000</td>\n",
       "      <td>39.000000</td>\n",
       "      <td>80.000000</td>\n",
       "      <td>81.000000</td>\n",
       "      <td>66.000000</td>\n",
       "      <td>72.000000</td>\n",
       "    </tr>\n",
       "  </tbody>\n",
       "</table>\n",
       "<p>8 rows × 31 columns</p>\n",
       "</div>"
      ],
      "text/plain": [
       "               年份          P         Ph         Pm         Pl         P90  \\\n",
       "count   39.000000  39.000000  39.000000  39.000000  39.000000   39.000000   \n",
       "mean    97.538462  59.897436  80.923077  61.948718  36.820513   85.615385   \n",
       "std      4.429840  21.320604  19.728932  26.108023  21.403236   17.363930   \n",
       "min     91.000000  18.000000  28.000000  12.000000   2.000000   32.000000   \n",
       "25%     93.500000  45.000000  70.000000  45.000000  22.500000   76.500000   \n",
       "50%     97.000000  62.000000  89.000000  65.000000  34.000000   93.000000   \n",
       "75%    101.000000  78.000000  95.500000  83.000000  53.000000   97.500000   \n",
       "max    105.000000  92.000000  99.000000  97.000000  81.000000  100.000000   \n",
       "\n",
       "             P70        P50        P30        P10    ...             HA  \\\n",
       "count  39.000000  39.000000  39.000000  39.000000    ...      39.000000   \n",
       "mean   72.051282  62.128205  50.410256  29.512821    ...      13.538462   \n",
       "std    24.525978  26.243976  25.102650  19.488015    ...      28.739159   \n",
       "min    20.000000  13.000000   5.000000   2.000000    ...       0.000000   \n",
       "25%    56.000000  43.500000  32.500000  17.500000    ...       0.500000   \n",
       "50%    82.000000  67.000000  50.000000  22.000000    ...       1.000000   \n",
       "75%    92.000000  83.500000  74.000000  43.500000    ...       4.000000   \n",
       "max    99.000000  97.000000  95.000000  75.000000    ...      97.000000   \n",
       "\n",
       "              HB         HC         HD         HE         LA         LB  \\\n",
       "count  39.000000  39.000000  39.000000  39.000000  39.000000  39.000000   \n",
       "mean   21.487179  18.948718  27.128205  14.205128  10.923077  17.948718   \n",
       "std    35.023204  32.600411  37.132890  29.643655  10.032538  15.423749   \n",
       "min     0.000000   0.000000   0.000000   0.000000   1.000000   3.000000   \n",
       "25%     1.000000   1.500000   1.000000   1.000000   4.000000   8.000000   \n",
       "50%     2.000000   4.000000   4.000000   2.000000   8.000000  11.000000   \n",
       "75%    19.500000  11.500000  65.000000   4.500000  12.000000  24.500000   \n",
       "max    99.000000  99.000000  98.000000  98.000000  39.000000  80.000000   \n",
       "\n",
       "              LC         LD         LE  \n",
       "count  39.000000  39.000000  39.000000  \n",
       "mean   23.487179  21.000000  13.666667  \n",
       "std    19.458284  16.288517  15.239031  \n",
       "min     4.000000   4.000000   2.000000  \n",
       "25%    13.000000  11.000000   5.000000  \n",
       "50%    18.000000  16.000000   7.000000  \n",
       "75%    23.000000  26.500000  17.500000  \n",
       "max    81.000000  66.000000  72.000000  \n",
       "\n",
       "[8 rows x 31 columns]"
      ]
     },
     "execution_count": 56,
     "metadata": {},
     "output_type": "execute_result"
    }
   ],
   "source": [
    "singCho.describe()"
   ]
  },
  {
   "cell_type": "code",
   "execution_count": 57,
   "metadata": {
    "collapsed": false
   },
   "outputs": [
    {
     "data": {
      "text/html": [
       "<div>\n",
       "<table border=\"1\" class=\"dataframe\">\n",
       "  <thead>\n",
       "    <tr style=\"text-align: right;\">\n",
       "      <th></th>\n",
       "      <th>題數</th>\n",
       "    </tr>\n",
       "    <tr>\n",
       "      <th>答案</th>\n",
       "      <th></th>\n",
       "    </tr>\n",
       "  </thead>\n",
       "  <tbody>\n",
       "    <tr>\n",
       "      <th>(B)(C)</th>\n",
       "      <td>6</td>\n",
       "    </tr>\n",
       "    <tr>\n",
       "      <th>(A)(B)(E)</th>\n",
       "      <td>5</td>\n",
       "    </tr>\n",
       "    <tr>\n",
       "      <th>(B)(D)</th>\n",
       "      <td>4</td>\n",
       "    </tr>\n",
       "    <tr>\n",
       "      <th>(A)(D)</th>\n",
       "      <td>4</td>\n",
       "    </tr>\n",
       "    <tr>\n",
       "      <th>(B)</th>\n",
       "      <td>3</td>\n",
       "    </tr>\n",
       "    <tr>\n",
       "      <th>(D)(E)</th>\n",
       "      <td>3</td>\n",
       "    </tr>\n",
       "    <tr>\n",
       "      <th>(A)(C)(D)</th>\n",
       "      <td>3</td>\n",
       "    </tr>\n",
       "    <tr>\n",
       "      <th>(A)(B)(C)</th>\n",
       "      <td>2</td>\n",
       "    </tr>\n",
       "    <tr>\n",
       "      <th>(C)(E)</th>\n",
       "      <td>2</td>\n",
       "    </tr>\n",
       "    <tr>\n",
       "      <th>(C)(D)</th>\n",
       "      <td>2</td>\n",
       "    </tr>\n",
       "    <tr>\n",
       "      <th>(B)(D)(E)</th>\n",
       "      <td>2</td>\n",
       "    </tr>\n",
       "    <tr>\n",
       "      <th>(B)(C)(D)</th>\n",
       "      <td>2</td>\n",
       "    </tr>\n",
       "    <tr>\n",
       "      <th>(A)(B)</th>\n",
       "      <td>2</td>\n",
       "    </tr>\n",
       "    <tr>\n",
       "      <th>(A)(C)(D)(E)</th>\n",
       "      <td>2</td>\n",
       "    </tr>\n",
       "    <tr>\n",
       "      <th>(A)(C)</th>\n",
       "      <td>2</td>\n",
       "    </tr>\n",
       "    <tr>\n",
       "      <th>(A)(B)(D)</th>\n",
       "      <td>2</td>\n",
       "    </tr>\n",
       "    <tr>\n",
       "      <th>(A)(E)</th>\n",
       "      <td>1</td>\n",
       "    </tr>\n",
       "    <tr>\n",
       "      <th>(A)(D)(E)</th>\n",
       "      <td>1</td>\n",
       "    </tr>\n",
       "    <tr>\n",
       "      <th>(B)(C)(E)</th>\n",
       "      <td>1</td>\n",
       "    </tr>\n",
       "    <tr>\n",
       "      <th>(B)(E)</th>\n",
       "      <td>1</td>\n",
       "    </tr>\n",
       "    <tr>\n",
       "      <th>(C)</th>\n",
       "      <td>1</td>\n",
       "    </tr>\n",
       "    <tr>\n",
       "      <th>(A)(B)(D)(E)</th>\n",
       "      <td>1</td>\n",
       "    </tr>\n",
       "    <tr>\n",
       "      <th>(A)(B)(C)(E)</th>\n",
       "      <td>1</td>\n",
       "    </tr>\n",
       "    <tr>\n",
       "      <th>(E)</th>\n",
       "      <td>1</td>\n",
       "    </tr>\n",
       "  </tbody>\n",
       "</table>\n",
       "</div>"
      ],
      "text/plain": [
       "              題數\n",
       "答案              \n",
       "(B)(C)         6\n",
       "(A)(B)(E)      5\n",
       "(B)(D)         4\n",
       "(A)(D)         4\n",
       "(B)            3\n",
       "(D)(E)         3\n",
       "(A)(C)(D)      3\n",
       "(A)(B)(C)      2\n",
       "(C)(E)         2\n",
       "(C)(D)         2\n",
       "(B)(D)(E)      2\n",
       "(B)(C)(D)      2\n",
       "(A)(B)         2\n",
       "(A)(C)(D)(E)   2\n",
       "(A)(C)         2\n",
       "(A)(B)(D)      2\n",
       "(A)(E)         1\n",
       "(A)(D)(E)      1\n",
       "(B)(C)(E)      1\n",
       "(B)(E)         1\n",
       "(C)            1\n",
       "(A)(B)(D)(E)   1\n",
       "(A)(B)(C)(E)   1\n",
       "(E)            1"
      ]
     },
     "execution_count": 57,
     "metadata": {},
     "output_type": "execute_result"
    }
   ],
   "source": [
    "multChoAns = multCho[[\"答案\",\"P\"]].groupby(by = \"答案\").count()\n",
    "multChoAns.columns.values[0]=\"題數\"\n",
    "multChoAns.sort_values(\"題數\",ascending=False)"
   ]
  },
  {
   "cell_type": "code",
   "execution_count": 58,
   "metadata": {
    "collapsed": false
   },
   "outputs": [
    {
     "data": {
      "text/html": [
       "<div>\n",
       "<table border=\"1\" class=\"dataframe\">\n",
       "  <thead>\n",
       "    <tr style=\"text-align: right;\">\n",
       "      <th></th>\n",
       "      <th>題數</th>\n",
       "      <th>百分比</th>\n",
       "    </tr>\n",
       "    <tr>\n",
       "      <th>答案個數</th>\n",
       "      <th></th>\n",
       "      <th></th>\n",
       "    </tr>\n",
       "  </thead>\n",
       "  <tbody>\n",
       "    <tr>\n",
       "      <th>1</th>\n",
       "      <td>5</td>\n",
       "      <td>0.092593</td>\n",
       "    </tr>\n",
       "    <tr>\n",
       "      <th>2</th>\n",
       "      <td>27</td>\n",
       "      <td>0.500000</td>\n",
       "    </tr>\n",
       "    <tr>\n",
       "      <th>3</th>\n",
       "      <td>18</td>\n",
       "      <td>0.333333</td>\n",
       "    </tr>\n",
       "    <tr>\n",
       "      <th>4</th>\n",
       "      <td>4</td>\n",
       "      <td>0.074074</td>\n",
       "    </tr>\n",
       "  </tbody>\n",
       "</table>\n",
       "</div>"
      ],
      "text/plain": [
       "      題數       百分比\n",
       "答案個數              \n",
       "1      5  0.092593\n",
       "2     27  0.500000\n",
       "3     18  0.333333\n",
       "4      4  0.074074"
      ]
     },
     "execution_count": 58,
     "metadata": {},
     "output_type": "execute_result"
    }
   ],
   "source": [
    "multChoAns.reset_index(inplace=True)\n",
    "multChoAns[\"答案個數\"]=multChoAns[\"答案\"].apply(lambda x: round(len(x)/3),0)\n",
    "multChoAnsNum = multChoAns.groupby(\"答案個數\").sum()\n",
    "multChoAnsNum[\"百分比\"]=multChoAnsNum[\"題數\"]/len(multCho)\n",
    "multChoAnsNum"
   ]
  },
  {
   "cell_type": "markdown",
   "metadata": {},
   "source": [
    "計算三種題型在不同群體的答對率"
   ]
  },
  {
   "cell_type": "code",
   "execution_count": 64,
   "metadata": {
    "collapsed": false
   },
   "outputs": [
    {
     "data": {
      "text/html": [
       "<div>\n",
       "<table border=\"1\" class=\"dataframe\">\n",
       "  <thead>\n",
       "    <tr style=\"text-align: right;\">\n",
       "      <th></th>\n",
       "      <th>來源</th>\n",
       "      <th>P</th>\n",
       "      <th>Ph</th>\n",
       "      <th>Pm</th>\n",
       "      <th>Pl</th>\n",
       "      <th>P90</th>\n",
       "    </tr>\n",
       "    <tr>\n",
       "      <th>章節</th>\n",
       "      <th></th>\n",
       "      <th></th>\n",
       "      <th></th>\n",
       "      <th></th>\n",
       "      <th></th>\n",
       "      <th></th>\n",
       "    </tr>\n",
       "  </thead>\n",
       "  <tbody>\n",
       "    <tr>\n",
       "      <th>msadx 多項式</th>\n",
       "      <td>21</td>\n",
       "      <td>55.058824</td>\n",
       "      <td>81.235294</td>\n",
       "      <td>57.058824</td>\n",
       "      <td>26.882353</td>\n",
       "      <td>86.352941</td>\n",
       "    </tr>\n",
       "    <tr>\n",
       "      <th>mssjy 直線與圓</th>\n",
       "      <td>17</td>\n",
       "      <td>51.833333</td>\n",
       "      <td>78.666667</td>\n",
       "      <td>53.500000</td>\n",
       "      <td>23.333333</td>\n",
       "      <td>84.166667</td>\n",
       "    </tr>\n",
       "    <tr>\n",
       "      <th>msdtj 統計</th>\n",
       "      <td>17</td>\n",
       "      <td>48.823529</td>\n",
       "      <td>68.882353</td>\n",
       "      <td>49.705882</td>\n",
       "      <td>27.882353</td>\n",
       "      <td>73.705882</td>\n",
       "    </tr>\n",
       "    <tr>\n",
       "      <th>msajt 指數與對數</th>\n",
       "      <td>16</td>\n",
       "      <td>44.285714</td>\n",
       "      <td>72.928571</td>\n",
       "      <td>41.928571</td>\n",
       "      <td>18.000000</td>\n",
       "      <td>80.571429</td>\n",
       "    </tr>\n",
       "    <tr>\n",
       "      <th>msdjl 機率</th>\n",
       "      <td>16</td>\n",
       "      <td>49.625000</td>\n",
       "      <td>70.437500</td>\n",
       "      <td>49.187500</td>\n",
       "      <td>29.250000</td>\n",
       "      <td>76.500000</td>\n",
       "    </tr>\n",
       "    <tr>\n",
       "      <th>msdpc 排列組合與記數原理</th>\n",
       "      <td>15</td>\n",
       "      <td>55.133333</td>\n",
       "      <td>80.333333</td>\n",
       "      <td>56.800000</td>\n",
       "      <td>28.266667</td>\n",
       "      <td>85.266667</td>\n",
       "    </tr>\n",
       "    <tr>\n",
       "      <th>msckx 數學綜合概念</th>\n",
       "      <td>13</td>\n",
       "      <td>64.666667</td>\n",
       "      <td>82.666667</td>\n",
       "      <td>66.111111</td>\n",
       "      <td>45.222222</td>\n",
       "      <td>87.222222</td>\n",
       "    </tr>\n",
       "    <tr>\n",
       "      <th>msdsp 隨機變數</th>\n",
       "      <td>11</td>\n",
       "      <td>58.714286</td>\n",
       "      <td>85.142857</td>\n",
       "      <td>63.714286</td>\n",
       "      <td>27.285714</td>\n",
       "      <td>89.285714</td>\n",
       "    </tr>\n",
       "    <tr>\n",
       "      <th>msajz 矩陣與方程組</th>\n",
       "      <td>9</td>\n",
       "      <td>49.333333</td>\n",
       "      <td>80.500000</td>\n",
       "      <td>49.500000</td>\n",
       "      <td>18.000000</td>\n",
       "      <td>86.666667</td>\n",
       "    </tr>\n",
       "    <tr>\n",
       "      <th>msskx 空間向量</th>\n",
       "      <td>9</td>\n",
       "      <td>43.666667</td>\n",
       "      <td>73.555556</td>\n",
       "      <td>40.888889</td>\n",
       "      <td>16.555556</td>\n",
       "      <td>81.333333</td>\n",
       "    </tr>\n",
       "    <tr>\n",
       "      <th>msssj 三角函數</th>\n",
       "      <td>9</td>\n",
       "      <td>41.444444</td>\n",
       "      <td>74.666667</td>\n",
       "      <td>39.777778</td>\n",
       "      <td>9.888889</td>\n",
       "      <td>82.333333</td>\n",
       "    </tr>\n",
       "    <tr>\n",
       "      <th>msspx 平面向量</th>\n",
       "      <td>8</td>\n",
       "      <td>46.625000</td>\n",
       "      <td>79.125000</td>\n",
       "      <td>44.500000</td>\n",
       "      <td>16.250000</td>\n",
       "      <td>87.000000</td>\n",
       "    </tr>\n",
       "    <tr>\n",
       "      <th>msseq 二次曲線</th>\n",
       "      <td>6</td>\n",
       "      <td>48.800000</td>\n",
       "      <td>76.600000</td>\n",
       "      <td>52.000000</td>\n",
       "      <td>17.800000</td>\n",
       "      <td>81.800000</td>\n",
       "    </tr>\n",
       "    <tr>\n",
       "      <th>mscsw 數學思維</th>\n",
       "      <td>4</td>\n",
       "      <td>58.250000</td>\n",
       "      <td>80.250000</td>\n",
       "      <td>60.250000</td>\n",
       "      <td>34.250000</td>\n",
       "      <td>85.250000</td>\n",
       "    </tr>\n",
       "    <tr>\n",
       "      <th>msalm 極限</th>\n",
       "      <td>4</td>\n",
       "      <td>52.500000</td>\n",
       "      <td>78.750000</td>\n",
       "      <td>52.500000</td>\n",
       "      <td>26.250000</td>\n",
       "      <td>83.500000</td>\n",
       "    </tr>\n",
       "    <tr>\n",
       "      <th>msnsl 數列與遞迴</th>\n",
       "      <td>4</td>\n",
       "      <td>37.250000</td>\n",
       "      <td>66.000000</td>\n",
       "      <td>35.000000</td>\n",
       "      <td>10.750000</td>\n",
       "      <td>74.000000</td>\n",
       "    </tr>\n",
       "    <tr>\n",
       "      <th>msckx 數學概論</th>\n",
       "      <td>2</td>\n",
       "      <td>51.000000</td>\n",
       "      <td>77.500000</td>\n",
       "      <td>53.500000</td>\n",
       "      <td>22.000000</td>\n",
       "      <td>84.000000</td>\n",
       "    </tr>\n",
       "    <tr>\n",
       "      <th>msajz 矩陣</th>\n",
       "      <td>2</td>\n",
       "      <td>75.500000</td>\n",
       "      <td>96.500000</td>\n",
       "      <td>86.000000</td>\n",
       "      <td>44.000000</td>\n",
       "      <td>98.000000</td>\n",
       "    </tr>\n",
       "    <tr>\n",
       "      <th>mscswj1 公式的理解與解讀</th>\n",
       "      <td>1</td>\n",
       "      <td>11.000000</td>\n",
       "      <td>28.000000</td>\n",
       "      <td>5.000000</td>\n",
       "      <td>0.000000</td>\n",
       "      <td>39.000000</td>\n",
       "    </tr>\n",
       "  </tbody>\n",
       "</table>\n",
       "</div>"
      ],
      "text/plain": [
       "                  來源          P         Ph         Pm         Pl        P90\n",
       "章節                                                                         \n",
       "msadx 多項式         21  55.058824  81.235294  57.058824  26.882353  86.352941\n",
       "mssjy 直線與圓        17  51.833333  78.666667  53.500000  23.333333  84.166667\n",
       "msdtj 統計          17  48.823529  68.882353  49.705882  27.882353  73.705882\n",
       "msajt 指數與對數       16  44.285714  72.928571  41.928571  18.000000  80.571429\n",
       "msdjl 機率          16  49.625000  70.437500  49.187500  29.250000  76.500000\n",
       "msdpc 排列組合與記數原理   15  55.133333  80.333333  56.800000  28.266667  85.266667\n",
       "msckx 數學綜合概念      13  64.666667  82.666667  66.111111  45.222222  87.222222\n",
       "msdsp 隨機變數        11  58.714286  85.142857  63.714286  27.285714  89.285714\n",
       "msajz 矩陣與方程組       9  49.333333  80.500000  49.500000  18.000000  86.666667\n",
       "msskx 空間向量         9  43.666667  73.555556  40.888889  16.555556  81.333333\n",
       "msssj 三角函數         9  41.444444  74.666667  39.777778   9.888889  82.333333\n",
       "msspx 平面向量         8  46.625000  79.125000  44.500000  16.250000  87.000000\n",
       "msseq 二次曲線         6  48.800000  76.600000  52.000000  17.800000  81.800000\n",
       "mscsw 數學思維         4  58.250000  80.250000  60.250000  34.250000  85.250000\n",
       "msalm 極限           4  52.500000  78.750000  52.500000  26.250000  83.500000\n",
       "msnsl 數列與遞迴        4  37.250000  66.000000  35.000000  10.750000  74.000000\n",
       "msckx 數學概論         2  51.000000  77.500000  53.500000  22.000000  84.000000\n",
       "msajz 矩陣           2  75.500000  96.500000  86.000000  44.000000  98.000000\n",
       "mscswj1 公式的理解與解讀   1  11.000000  28.000000   5.000000   0.000000  39.000000"
      ]
     },
     "execution_count": 64,
     "metadata": {},
     "output_type": "execute_result"
    }
   ],
   "source": [
    "exambyChapter = exam.groupby(\"章節\")\n",
    "exambyChapter = exambyChapter.agg({\"來源\":\"count\",\"P\":\"mean\",\"Ph\":\"mean\",\"Pm\":\"mean\",\"Pl\":\"mean\",\"P90\":\"mean\"})\n",
    "exambyChapter.sort_values(by=\"來源\",ascending=False)"
   ]
  },
  {
   "cell_type": "code",
   "execution_count": 63,
   "metadata": {
    "collapsed": false
   },
   "outputs": [
    {
     "data": {
      "text/html": [
       "<div>\n",
       "<table border=\"1\" class=\"dataframe\">\n",
       "  <thead>\n",
       "    <tr style=\"text-align: right;\">\n",
       "      <th></th>\n",
       "      <th>來源</th>\n",
       "      <th>P</th>\n",
       "      <th>Ph</th>\n",
       "      <th>Pm</th>\n",
       "      <th>Pl</th>\n",
       "      <th>P90</th>\n",
       "    </tr>\n",
       "    <tr>\n",
       "      <th>章節</th>\n",
       "      <th></th>\n",
       "      <th></th>\n",
       "      <th></th>\n",
       "      <th></th>\n",
       "      <th></th>\n",
       "      <th></th>\n",
       "    </tr>\n",
       "  </thead>\n",
       "  <tbody>\n",
       "    <tr>\n",
       "      <th>mscswj1 公式的理解與解讀</th>\n",
       "      <td>1</td>\n",
       "      <td>11.000000</td>\n",
       "      <td>28.000000</td>\n",
       "      <td>5.000000</td>\n",
       "      <td>0.000000</td>\n",
       "      <td>39.000000</td>\n",
       "    </tr>\n",
       "    <tr>\n",
       "      <th>msdtj 統計</th>\n",
       "      <td>17</td>\n",
       "      <td>48.823529</td>\n",
       "      <td>68.882353</td>\n",
       "      <td>49.705882</td>\n",
       "      <td>27.882353</td>\n",
       "      <td>73.705882</td>\n",
       "    </tr>\n",
       "    <tr>\n",
       "      <th>msnsl 數列與遞迴</th>\n",
       "      <td>4</td>\n",
       "      <td>37.250000</td>\n",
       "      <td>66.000000</td>\n",
       "      <td>35.000000</td>\n",
       "      <td>10.750000</td>\n",
       "      <td>74.000000</td>\n",
       "    </tr>\n",
       "    <tr>\n",
       "      <th>msdjl 機率</th>\n",
       "      <td>16</td>\n",
       "      <td>49.625000</td>\n",
       "      <td>70.437500</td>\n",
       "      <td>49.187500</td>\n",
       "      <td>29.250000</td>\n",
       "      <td>76.500000</td>\n",
       "    </tr>\n",
       "    <tr>\n",
       "      <th>msajt 指數與對數</th>\n",
       "      <td>16</td>\n",
       "      <td>44.285714</td>\n",
       "      <td>72.928571</td>\n",
       "      <td>41.928571</td>\n",
       "      <td>18.000000</td>\n",
       "      <td>80.571429</td>\n",
       "    </tr>\n",
       "    <tr>\n",
       "      <th>msskx 空間向量</th>\n",
       "      <td>9</td>\n",
       "      <td>43.666667</td>\n",
       "      <td>73.555556</td>\n",
       "      <td>40.888889</td>\n",
       "      <td>16.555556</td>\n",
       "      <td>81.333333</td>\n",
       "    </tr>\n",
       "    <tr>\n",
       "      <th>msseq 二次曲線</th>\n",
       "      <td>6</td>\n",
       "      <td>48.800000</td>\n",
       "      <td>76.600000</td>\n",
       "      <td>52.000000</td>\n",
       "      <td>17.800000</td>\n",
       "      <td>81.800000</td>\n",
       "    </tr>\n",
       "    <tr>\n",
       "      <th>msssj 三角函數</th>\n",
       "      <td>9</td>\n",
       "      <td>41.444444</td>\n",
       "      <td>74.666667</td>\n",
       "      <td>39.777778</td>\n",
       "      <td>9.888889</td>\n",
       "      <td>82.333333</td>\n",
       "    </tr>\n",
       "    <tr>\n",
       "      <th>msalm 極限</th>\n",
       "      <td>4</td>\n",
       "      <td>52.500000</td>\n",
       "      <td>78.750000</td>\n",
       "      <td>52.500000</td>\n",
       "      <td>26.250000</td>\n",
       "      <td>83.500000</td>\n",
       "    </tr>\n",
       "    <tr>\n",
       "      <th>msckx 數學概論</th>\n",
       "      <td>2</td>\n",
       "      <td>51.000000</td>\n",
       "      <td>77.500000</td>\n",
       "      <td>53.500000</td>\n",
       "      <td>22.000000</td>\n",
       "      <td>84.000000</td>\n",
       "    </tr>\n",
       "    <tr>\n",
       "      <th>mssjy 直線與圓</th>\n",
       "      <td>17</td>\n",
       "      <td>51.833333</td>\n",
       "      <td>78.666667</td>\n",
       "      <td>53.500000</td>\n",
       "      <td>23.333333</td>\n",
       "      <td>84.166667</td>\n",
       "    </tr>\n",
       "    <tr>\n",
       "      <th>mscsw 數學思維</th>\n",
       "      <td>4</td>\n",
       "      <td>58.250000</td>\n",
       "      <td>80.250000</td>\n",
       "      <td>60.250000</td>\n",
       "      <td>34.250000</td>\n",
       "      <td>85.250000</td>\n",
       "    </tr>\n",
       "    <tr>\n",
       "      <th>msdpc 排列組合與記數原理</th>\n",
       "      <td>15</td>\n",
       "      <td>55.133333</td>\n",
       "      <td>80.333333</td>\n",
       "      <td>56.800000</td>\n",
       "      <td>28.266667</td>\n",
       "      <td>85.266667</td>\n",
       "    </tr>\n",
       "    <tr>\n",
       "      <th>msadx 多項式</th>\n",
       "      <td>21</td>\n",
       "      <td>55.058824</td>\n",
       "      <td>81.235294</td>\n",
       "      <td>57.058824</td>\n",
       "      <td>26.882353</td>\n",
       "      <td>86.352941</td>\n",
       "    </tr>\n",
       "    <tr>\n",
       "      <th>msajz 矩陣與方程組</th>\n",
       "      <td>9</td>\n",
       "      <td>49.333333</td>\n",
       "      <td>80.500000</td>\n",
       "      <td>49.500000</td>\n",
       "      <td>18.000000</td>\n",
       "      <td>86.666667</td>\n",
       "    </tr>\n",
       "    <tr>\n",
       "      <th>msspx 平面向量</th>\n",
       "      <td>8</td>\n",
       "      <td>46.625000</td>\n",
       "      <td>79.125000</td>\n",
       "      <td>44.500000</td>\n",
       "      <td>16.250000</td>\n",
       "      <td>87.000000</td>\n",
       "    </tr>\n",
       "    <tr>\n",
       "      <th>msckx 數學綜合概念</th>\n",
       "      <td>13</td>\n",
       "      <td>64.666667</td>\n",
       "      <td>82.666667</td>\n",
       "      <td>66.111111</td>\n",
       "      <td>45.222222</td>\n",
       "      <td>87.222222</td>\n",
       "    </tr>\n",
       "    <tr>\n",
       "      <th>msdsp 隨機變數</th>\n",
       "      <td>11</td>\n",
       "      <td>58.714286</td>\n",
       "      <td>85.142857</td>\n",
       "      <td>63.714286</td>\n",
       "      <td>27.285714</td>\n",
       "      <td>89.285714</td>\n",
       "    </tr>\n",
       "    <tr>\n",
       "      <th>msajz 矩陣</th>\n",
       "      <td>2</td>\n",
       "      <td>75.500000</td>\n",
       "      <td>96.500000</td>\n",
       "      <td>86.000000</td>\n",
       "      <td>44.000000</td>\n",
       "      <td>98.000000</td>\n",
       "    </tr>\n",
       "  </tbody>\n",
       "</table>\n",
       "</div>"
      ],
      "text/plain": [
       "                  來源          P         Ph         Pm         Pl        P90\n",
       "章節                                                                         \n",
       "mscswj1 公式的理解與解讀   1  11.000000  28.000000   5.000000   0.000000  39.000000\n",
       "msdtj 統計          17  48.823529  68.882353  49.705882  27.882353  73.705882\n",
       "msnsl 數列與遞迴        4  37.250000  66.000000  35.000000  10.750000  74.000000\n",
       "msdjl 機率          16  49.625000  70.437500  49.187500  29.250000  76.500000\n",
       "msajt 指數與對數       16  44.285714  72.928571  41.928571  18.000000  80.571429\n",
       "msskx 空間向量         9  43.666667  73.555556  40.888889  16.555556  81.333333\n",
       "msseq 二次曲線         6  48.800000  76.600000  52.000000  17.800000  81.800000\n",
       "msssj 三角函數         9  41.444444  74.666667  39.777778   9.888889  82.333333\n",
       "msalm 極限           4  52.500000  78.750000  52.500000  26.250000  83.500000\n",
       "msckx 數學概論         2  51.000000  77.500000  53.500000  22.000000  84.000000\n",
       "mssjy 直線與圓        17  51.833333  78.666667  53.500000  23.333333  84.166667\n",
       "mscsw 數學思維         4  58.250000  80.250000  60.250000  34.250000  85.250000\n",
       "msdpc 排列組合與記數原理   15  55.133333  80.333333  56.800000  28.266667  85.266667\n",
       "msadx 多項式         21  55.058824  81.235294  57.058824  26.882353  86.352941\n",
       "msajz 矩陣與方程組       9  49.333333  80.500000  49.500000  18.000000  86.666667\n",
       "msspx 平面向量         8  46.625000  79.125000  44.500000  16.250000  87.000000\n",
       "msckx 數學綜合概念      13  64.666667  82.666667  66.111111  45.222222  87.222222\n",
       "msdsp 隨機變數        11  58.714286  85.142857  63.714286  27.285714  89.285714\n",
       "msajz 矩陣           2  75.500000  96.500000  86.000000  44.000000  98.000000"
      ]
     },
     "execution_count": 63,
     "metadata": {},
     "output_type": "execute_result"
    }
   ],
   "source": [
    "exambyChapter.sort_values(by=\"P90\",ascending=True)"
   ]
  },
  {
   "cell_type": "code",
   "execution_count": 74,
   "metadata": {
    "collapsed": false
   },
   "outputs": [
    {
     "name": "stderr",
     "output_type": "stream",
     "text": [
      "/Users/acchu/anaconda/lib/python3.6/site-packages/matplotlib/axes/_base.py:2903: UserWarning: Attempting to set identical left==right results\n",
      "in singular transformations; automatically expanding.\n",
      "left=-0.5, right=-0.5\n",
      "  'left=%s, right=%s') % (left, right))\n"
     ]
    },
    {
     "data": {
      "text/plain": [
       "<matplotlib.axes._subplots.AxesSubplot at 0x121ee8b00>"
      ]
     },
     "execution_count": 74,
     "metadata": {},
     "output_type": "execute_result"
    },
    {
     "data": {
      "image/png": "[encoded data removed]",
      "text/plain": [
       "<matplotlib.figure.Figure at 0x1220b5ba8>"
      ]
     },
     "metadata": {},
     "output_type": "display_data"
    }
   ],
   "source": [
    "plt.figure(figsize=(16,6))\n",
    "font = {'size':24}\n",
    "matplotlib.rc('font',**font)\n",
    "sns.stripplot(x=\"章節（短）\",y=\"P\",data=exnonCho,hue=\"題型\",jitter=True)"
   ]
  },
  {
   "cell_type": "code",
   "execution_count": 66,
   "metadata": {
    "collapsed": false
   },
   "outputs": [
    {
     "data": {
      "text/plain": [
       "<seaborn.axisgrid.JointGrid at 0x11e2425c0>"
      ]
     },
     "execution_count": 66,
     "metadata": {},
     "output_type": "execute_result"
    },
    {
     "data": {
      "image/png": "[encoded data removed]",
      "text/plain": [
       "<matplotlib.figure.Figure at 0x11e242fd0>"
      ]
     },
     "metadata": {},
     "output_type": "display_data"
    }
   ],
   "source": [
    "sns.jointplot(x=\"P\",y=\"D\",data=exam)"
   ]
  },
  {
   "cell_type": "code",
   "execution_count": 67,
   "metadata": {
    "collapsed": false
   },
   "outputs": [
    {
     "data": {
      "text/plain": [
       "<seaborn.axisgrid.JointGrid at 0x11e2407b8>"
      ]
     },
     "execution_count": 67,
     "metadata": {},
     "output_type": "execute_result"
    },
    {
     "data": {
      "image/png": "[encoded data removed]",
      "text/plain": [
       "<matplotlib.figure.Figure at 0x1213e7908>"
      ]
     },
     "metadata": {},
     "output_type": "display_data"
    }
   ],
   "source": [
    "sns.jointplot(x=\"P\",y=\"D\",data=singCho)"
   ]
  },
  {
   "cell_type": "code",
   "execution_count": 68,
   "metadata": {
    "collapsed": false
   },
   "outputs": [
    {
     "data": {
      "text/plain": [
       "<seaborn.axisgrid.JointGrid at 0x11e1318d0>"
      ]
     },
     "execution_count": 68,
     "metadata": {},
     "output_type": "execute_result"
    },
    {
     "data": {
      "image/png": "[encoded data removed]",
      "text/plain": [
       "<matplotlib.figure.Figure at 0x1212f0d30>"
      ]
     },
     "metadata": {},
     "output_type": "display_data"
    }
   ],
   "source": [
    "sns.jointplot(x=\"P\",y=\"D\",data=multCho)"
   ]
  },
  {
   "cell_type": "code",
   "execution_count": 69,
   "metadata": {
    "collapsed": false
   },
   "outputs": [
    {
     "data": {
      "text/plain": [
       "<seaborn.axisgrid.JointGrid at 0x121a1bac8>"
      ]
     },
     "execution_count": 69,
     "metadata": {},
     "output_type": "execute_result"
    },
    {
     "data": {
      "image/png": "[encoded data removed]",
      "text/plain": [
       "<matplotlib.figure.Figure at 0x121a1bda0>"
      ]
     },
     "metadata": {},
     "output_type": "display_data"
    }
   ],
   "source": [
    "sns.jointplot(x=\"P\",y=\"D\",data=textBox)"
   ]
  }
 ],
 "metadata": {
  "kernelspec": {
   "display_name": "Python 3",
   "language": "python",
   "name": "python3"
  },
  "language_info": {
   "codemirror_mode": {
    "name": "ipython",
    "version": 3
   },
   "file_extension": ".py",
   "mimetype": "text/x-python",
   "name": "python",
   "nbconvert_exporter": "python",
   "pygments_lexer": "ipython3",
   "version": "3.6.0"
  }
 },
 "nbformat": 4,
 "nbformat_minor": 2
}
